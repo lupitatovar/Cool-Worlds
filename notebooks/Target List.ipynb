{
 "cells": [
  {
   "cell_type": "code",
   "execution_count": 1,
   "metadata": {},
   "outputs": [],
   "source": [
    "%matplotlib inline\n",
    "import numpy as np\n",
    "import matplotlib.pyplot as plt\n",
    "import pandas as pd\n",
    "import astropy\n",
    "import lightkurve as lk\n",
    "from scipy import *\n",
    "from astropy import constants as ac"
   ]
  },
  {
   "cell_type": "code",
   "execution_count": 23,
   "metadata": {},
   "outputs": [],
   "source": [
    "from matplotlib import rcParams\n",
    "rcParams[\"savefig.dpi\"] = 100\n",
    "rcParams[\"figure.dpi\"] = 100\n",
    "rcParams[\"font.size\"] = 20\n",
    "rcParams[\"figure.figsize\"] = [8, 5]\n",
    "rcParams[\"font.family\"] = \"sans-serif\"\n",
    "rcParams[\"font.sans-serif\"] = [\"Computer Modern Sans Serif\"]\n",
    "rcParams[\"text.usetex\"] = True\n",
    "plt.rcParams['axes.linewidth']=1.5"
   ]
  },
  {
   "cell_type": "markdown",
   "metadata": {},
   "source": [
    "### Importing in targets from ExoPlots\n",
    "\n",
    "https://ethankruse.github.io/exoplots/insolation-radius.html"
   ]
  },
  {
   "cell_type": "code",
   "execution_count": 13,
   "metadata": {},
   "outputs": [
    {
     "data": {
      "text/html": [
       "<div>\n",
       "<style scoped>\n",
       "    .dataframe tbody tr th:only-of-type {\n",
       "        vertical-align: middle;\n",
       "    }\n",
       "\n",
       "    .dataframe tbody tr th {\n",
       "        vertical-align: top;\n",
       "    }\n",
       "\n",
       "    .dataframe thead th {\n",
       "        text-align: right;\n",
       "    }\n",
       "</style>\n",
       "<table border=\"1\" class=\"dataframe\">\n",
       "  <thead>\n",
       "    <tr style=\"text-align: right;\">\n",
       "      <th></th>\n",
       "      <th>Planet</th>\n",
       "      <th>Insolation</th>\n",
       "      <th>Period</th>\n",
       "      <th>Radius</th>\n",
       "      <th>Jup_Radius</th>\n",
       "      <th>Discovery</th>\n",
       "      <th>Status</th>\n",
       "    </tr>\n",
       "  </thead>\n",
       "  <tbody>\n",
       "    <tr>\n",
       "      <th>0</th>\n",
       "      <td>Kepler-452 b</td>\n",
       "      <td>1.108504</td>\n",
       "      <td>384.843000</td>\n",
       "      <td>1.568324</td>\n",
       "      <td>0.139904</td>\n",
       "      <td>Kepler</td>\n",
       "      <td>Confirmed</td>\n",
       "    </tr>\n",
       "    <tr>\n",
       "      <th>1</th>\n",
       "      <td>Kepler-1649 c</td>\n",
       "      <td>0.942183</td>\n",
       "      <td>19.535270</td>\n",
       "      <td>1.069217</td>\n",
       "      <td>0.095381</td>\n",
       "      <td>Kepler</td>\n",
       "      <td>Confirmed</td>\n",
       "    </tr>\n",
       "    <tr>\n",
       "      <th>2</th>\n",
       "      <td>Kepler-1544 b</td>\n",
       "      <td>0.774587</td>\n",
       "      <td>168.811174</td>\n",
       "      <td>1.722270</td>\n",
       "      <td>0.153637</td>\n",
       "      <td>Kepler</td>\n",
       "      <td>Confirmed</td>\n",
       "    </tr>\n",
       "    <tr>\n",
       "      <th>3</th>\n",
       "      <td>Kepler-1410 b</td>\n",
       "      <td>1.060000</td>\n",
       "      <td>60.866168</td>\n",
       "      <td>1.780000</td>\n",
       "      <td>0.158787</td>\n",
       "      <td>Kepler</td>\n",
       "      <td>Confirmed</td>\n",
       "    </tr>\n",
       "    <tr>\n",
       "      <th>4</th>\n",
       "      <td>Kepler-296 f</td>\n",
       "      <td>0.620000</td>\n",
       "      <td>63.336270</td>\n",
       "      <td>1.800000</td>\n",
       "      <td>0.160571</td>\n",
       "      <td>Kepler</td>\n",
       "      <td>Confirmed</td>\n",
       "    </tr>\n",
       "    <tr>\n",
       "      <th>5</th>\n",
       "      <td>Kepler-283 c</td>\n",
       "      <td>0.966398</td>\n",
       "      <td>92.743711</td>\n",
       "      <td>1.944526</td>\n",
       "      <td>0.173464</td>\n",
       "      <td>Kepler</td>\n",
       "      <td>Confirmed</td>\n",
       "    </tr>\n",
       "    <tr>\n",
       "      <th>6</th>\n",
       "      <td>Kepler-62 f</td>\n",
       "      <td>0.509360</td>\n",
       "      <td>267.291000</td>\n",
       "      <td>1.533375</td>\n",
       "      <td>0.136786</td>\n",
       "      <td>Kepler</td>\n",
       "      <td>Confirmed</td>\n",
       "    </tr>\n",
       "    <tr>\n",
       "      <th>7</th>\n",
       "      <td>Kepler-442 b</td>\n",
       "      <td>1.007496</td>\n",
       "      <td>112.305300</td>\n",
       "      <td>1.375733</td>\n",
       "      <td>0.122724</td>\n",
       "      <td>Kepler</td>\n",
       "      <td>Confirmed</td>\n",
       "    </tr>\n",
       "    <tr>\n",
       "      <th>8</th>\n",
       "      <td>Kepler-1652 b</td>\n",
       "      <td>0.810000</td>\n",
       "      <td>38.097220</td>\n",
       "      <td>1.600000</td>\n",
       "      <td>0.142730</td>\n",
       "      <td>Kepler</td>\n",
       "      <td>Confirmed</td>\n",
       "    </tr>\n",
       "    <tr>\n",
       "      <th>9</th>\n",
       "      <td>Kepler-186 f</td>\n",
       "      <td>0.404084</td>\n",
       "      <td>129.944100</td>\n",
       "      <td>1.201500</td>\n",
       "      <td>0.107181</td>\n",
       "      <td>Kepler</td>\n",
       "      <td>Confirmed</td>\n",
       "    </tr>\n",
       "    <tr>\n",
       "      <th>10</th>\n",
       "      <td>Kepler-441 b</td>\n",
       "      <td>0.241811</td>\n",
       "      <td>207.248200</td>\n",
       "      <td>1.568436</td>\n",
       "      <td>0.139914</td>\n",
       "      <td>Kepler</td>\n",
       "      <td>Confirmed</td>\n",
       "    </tr>\n",
       "    <tr>\n",
       "      <th>11</th>\n",
       "      <td>Kepler-1229 b</td>\n",
       "      <td>0.629999</td>\n",
       "      <td>86.828989</td>\n",
       "      <td>1.556471</td>\n",
       "      <td>0.138847</td>\n",
       "      <td>Kepler</td>\n",
       "      <td>Confirmed</td>\n",
       "    </tr>\n",
       "    <tr>\n",
       "      <th>12</th>\n",
       "      <td>K2-3 d</td>\n",
       "      <td>1.003350</td>\n",
       "      <td>44.556460</td>\n",
       "      <td>1.499946</td>\n",
       "      <td>0.133804</td>\n",
       "      <td>K2</td>\n",
       "      <td>Confirmed</td>\n",
       "    </tr>\n",
       "    <tr>\n",
       "      <th>13</th>\n",
       "      <td>TRAPPIST-1 h</td>\n",
       "      <td>0.140000</td>\n",
       "      <td>18.772866</td>\n",
       "      <td>0.755000</td>\n",
       "      <td>0.067351</td>\n",
       "      <td>Multiple Observatories</td>\n",
       "      <td>Confirmed</td>\n",
       "    </tr>\n",
       "    <tr>\n",
       "      <th>14</th>\n",
       "      <td>LP 890-9 c</td>\n",
       "      <td>0.910000</td>\n",
       "      <td>8.457463</td>\n",
       "      <td>1.367000</td>\n",
       "      <td>0.121945</td>\n",
       "      <td>SPECULOOS Southern Observatory</td>\n",
       "      <td>Confirmed</td>\n",
       "    </tr>\n",
       "    <tr>\n",
       "      <th>15</th>\n",
       "      <td>TRAPPIST-1 g</td>\n",
       "      <td>0.250000</td>\n",
       "      <td>12.352446</td>\n",
       "      <td>1.129000</td>\n",
       "      <td>0.100714</td>\n",
       "      <td>Multiple Observatories</td>\n",
       "      <td>Confirmed</td>\n",
       "    </tr>\n",
       "    <tr>\n",
       "      <th>16</th>\n",
       "      <td>LHS 1140 b</td>\n",
       "      <td>0.500000</td>\n",
       "      <td>24.736940</td>\n",
       "      <td>1.635000</td>\n",
       "      <td>0.145852</td>\n",
       "      <td>MEarth Project</td>\n",
       "      <td>Confirmed</td>\n",
       "    </tr>\n",
       "    <tr>\n",
       "      <th>17</th>\n",
       "      <td>TRAPPIST-1 f</td>\n",
       "      <td>0.370000</td>\n",
       "      <td>9.207540</td>\n",
       "      <td>1.045000</td>\n",
       "      <td>0.093220</td>\n",
       "      <td>Multiple Observatories</td>\n",
       "      <td>Confirmed</td>\n",
       "    </tr>\n",
       "    <tr>\n",
       "      <th>18</th>\n",
       "      <td>TRAPPIST-1 e</td>\n",
       "      <td>0.650000</td>\n",
       "      <td>6.101013</td>\n",
       "      <td>0.920000</td>\n",
       "      <td>0.082070</td>\n",
       "      <td>Multiple Observatories</td>\n",
       "      <td>Confirmed</td>\n",
       "    </tr>\n",
       "    <tr>\n",
       "      <th>19</th>\n",
       "      <td>TRAPPIST-1 d</td>\n",
       "      <td>1.110000</td>\n",
       "      <td>4.049219</td>\n",
       "      <td>0.788000</td>\n",
       "      <td>0.070294</td>\n",
       "      <td>La Silla Observatory</td>\n",
       "      <td>Confirmed</td>\n",
       "    </tr>\n",
       "    <tr>\n",
       "      <th>20</th>\n",
       "      <td>TOI-700 d</td>\n",
       "      <td>0.850000</td>\n",
       "      <td>37.424750</td>\n",
       "      <td>1.144000</td>\n",
       "      <td>0.102052</td>\n",
       "      <td>TESS</td>\n",
       "      <td>Confirmed</td>\n",
       "    </tr>\n",
       "  </tbody>\n",
       "</table>\n",
       "</div>"
      ],
      "text/plain": [
       "           Planet  Insolation      Period    Radius  Jup_Radius  \\\n",
       "0    Kepler-452 b    1.108504  384.843000  1.568324    0.139904   \n",
       "1   Kepler-1649 c    0.942183   19.535270  1.069217    0.095381   \n",
       "2   Kepler-1544 b    0.774587  168.811174  1.722270    0.153637   \n",
       "3   Kepler-1410 b    1.060000   60.866168  1.780000    0.158787   \n",
       "4    Kepler-296 f    0.620000   63.336270  1.800000    0.160571   \n",
       "5    Kepler-283 c    0.966398   92.743711  1.944526    0.173464   \n",
       "6     Kepler-62 f    0.509360  267.291000  1.533375    0.136786   \n",
       "7    Kepler-442 b    1.007496  112.305300  1.375733    0.122724   \n",
       "8   Kepler-1652 b    0.810000   38.097220  1.600000    0.142730   \n",
       "9    Kepler-186 f    0.404084  129.944100  1.201500    0.107181   \n",
       "10   Kepler-441 b    0.241811  207.248200  1.568436    0.139914   \n",
       "11  Kepler-1229 b    0.629999   86.828989  1.556471    0.138847   \n",
       "12         K2-3 d    1.003350   44.556460  1.499946    0.133804   \n",
       "13   TRAPPIST-1 h    0.140000   18.772866  0.755000    0.067351   \n",
       "14     LP 890-9 c    0.910000    8.457463  1.367000    0.121945   \n",
       "15   TRAPPIST-1 g    0.250000   12.352446  1.129000    0.100714   \n",
       "16     LHS 1140 b    0.500000   24.736940  1.635000    0.145852   \n",
       "17   TRAPPIST-1 f    0.370000    9.207540  1.045000    0.093220   \n",
       "18   TRAPPIST-1 e    0.650000    6.101013  0.920000    0.082070   \n",
       "19   TRAPPIST-1 d    1.110000    4.049219  0.788000    0.070294   \n",
       "20      TOI-700 d    0.850000   37.424750  1.144000    0.102052   \n",
       "\n",
       "                          Discovery      Status  \n",
       "0                            Kepler   Confirmed  \n",
       "1                            Kepler   Confirmed  \n",
       "2                            Kepler   Confirmed  \n",
       "3                            Kepler   Confirmed  \n",
       "4                            Kepler   Confirmed  \n",
       "5                            Kepler   Confirmed  \n",
       "6                            Kepler   Confirmed  \n",
       "7                            Kepler   Confirmed  \n",
       "8                            Kepler   Confirmed  \n",
       "9                            Kepler   Confirmed  \n",
       "10                           Kepler   Confirmed  \n",
       "11                           Kepler   Confirmed  \n",
       "12                               K2   Confirmed  \n",
       "13           Multiple Observatories   Confirmed  \n",
       "14   SPECULOOS Southern Observatory   Confirmed  \n",
       "15           Multiple Observatories   Confirmed  \n",
       "16                   MEarth Project   Confirmed  \n",
       "17           Multiple Observatories   Confirmed  \n",
       "18           Multiple Observatories   Confirmed  \n",
       "19             La Silla Observatory   Confirmed  \n",
       "20                             TESS   Confirmed  "
      ]
     },
     "execution_count": 13,
     "metadata": {},
     "output_type": "execute_result"
    }
   ],
   "source": [
    "l1 = pd.read_csv('/Users/lupitatovar/Cool-Worlds/targets/radius_iso_cut.csv',skiprows=1,\n",
    "                 names=['Planet','Insolation','Period','Radius','Jup_Radius','Discovery','Status'])\n",
    "l1"
   ]
  },
  {
   "cell_type": "code",
   "execution_count": 32,
   "metadata": {},
   "outputs": [],
   "source": [
    "kepler = l1[l1[\"Discovery\"].str.contains(\"Kepler\")]\n",
    "k2 = l1[l1[\"Discovery\"].str.contains(\"K2\")]\n",
    "tess = l1[l1[\"Discovery\"].str.contains(\"TESS\")]\n",
    "other = l1[l1[\"Discovery\"].str.contains(\"Mulitple Observatories|MEarth Project|La Silla Observatory|SPECULOOS Southern Observatory\")]"
   ]
  },
  {
   "cell_type": "code",
   "execution_count": 60,
   "metadata": {},
   "outputs": [
    {
     "name": "stdout",
     "output_type": "stream",
     "text": [
      "21\n"
     ]
    }
   ],
   "source": [
    "print(len(l1))"
   ]
  },
  {
   "cell_type": "markdown",
   "metadata": {},
   "source": [
    "### Re-creating exoplot style plot for specific targets of interest: https://ethankruse.github.io/exoplots/ "
   ]
  },
  {
   "cell_type": "code",
   "execution_count": 51,
   "metadata": {},
   "outputs": [
    {
     "data": {
      "text/plain": [
       "<matplotlib.legend.Legend at 0x7f996645ded0>"
      ]
     },
     "execution_count": 51,
     "metadata": {},
     "output_type": "execute_result"
    },
    {
     "data": {
      "image/png": "[encoded data removed]",
      "text/plain": [
       "<Figure size 800x500 with 1 Axes>"
      ]
     },
     "metadata": {
      "needs_background": "light"
     },
     "output_type": "display_data"
    }
   ],
   "source": [
    "#plt.scatter(l1['Insolation'].values,l1['Radius'].values)\n",
    "plt.scatter(kepler['Insolation'].values,kepler['Radius'].values,color = 'green', label = \"Kepler Confirmed\")\n",
    "plt.scatter(k2['Insolation'].values,k2['Radius'].values,color = 'C1', label = \"K2 Confirmed\")\n",
    "plt.scatter(tess['Insolation'].values,tess['Radius'].values,color = 'C0', label = \"TESS Confirmed\")\n",
    "plt.scatter(other['Insolation'].values,other['Radius'].values,color = 'purple', label = \"Other Confirmed\")\n",
    "plt.scatter(1,1,color='k',label='Earth',marker=\"^\")\n",
    "\n",
    "\n",
    "plt.xlabel('Insolation (Earths)')\n",
    "plt.ylabel('Radius (Earth Radii)')\n",
    "plt.tick_params(direction='out',width=1.5,length=6,pad=7)\n",
    "plt.minorticks_on()\n",
    "plt.legend(bbox_to_anchor=(1.01, 1), loc='upper left', borderaxespad=0.,fontsize=14)"
   ]
  },
  {
   "cell_type": "markdown",
   "metadata": {},
   "source": [
    "Crossmatching with Ethan's exoplanet archive data file (https://raw.githubusercontent.com/ethankruse/exoplots/master/data/exoplots_data.csv) to get more data columns"
   ]
  },
  {
   "cell_type": "code",
   "execution_count": 52,
   "metadata": {},
   "outputs": [],
   "source": [
    "full_table=pd.read_csv('https://raw.githubusercontent.com/ethankruse/exoplots/master/data/exoplots_data.csv')\n",
    "##skiprows=,delim_whitespace=True,names=['',''])"
   ]
  },
  {
   "cell_type": "code",
   "execution_count": 148,
   "metadata": {},
   "outputs": [
    {
     "data": {
      "text/plain": [
       "array(['Kepler-452 b', 'Kepler-1649 c', 'Kepler-1544 b', 'Kepler-1410 b',\n",
       "       'Kepler-296 f', 'Kepler-283 c', 'Kepler-62 f', 'Kepler-442 b',\n",
       "       'Kepler-1652 b', 'Kepler-186 f', 'Kepler-441 b', 'Kepler-1229 b',\n",
       "       'K2-3 d', 'TRAPPIST-1 h', 'LP 890-9 c', 'TRAPPIST-1 g',\n",
       "       'LHS 1140 b', 'TRAPPIST-1 f', 'TRAPPIST-1 e', 'TRAPPIST-1 d',\n",
       "       'TOI-700 d'], dtype=object)"
      ]
     },
     "execution_count": 148,
     "metadata": {},
     "output_type": "execute_result"
    }
   ],
   "source": [
    "(l1['Planet'].values)\n",
    "#full_table['hostname'].values"
   ]
  },
  {
   "cell_type": "code",
   "execution_count": 149,
   "metadata": {},
   "outputs": [
    {
     "data": {
      "text/plain": [
       "array(['HD 219134 f', 'Kepler 11 b', 'Kepler 60 b', 'Kepler 60 c',\n",
       "       'Kepler 60 d', 'Kepler 62 c', 'Kepler 68 c', 'Kepler 80 e',\n",
       "       'Kepler 93 b', 'Kepler 114 c', 'Kepler 138 b', 'Kepler 138 c',\n",
       "       'Kepler 138 d', 'Kepler 186 b', 'Kepler 186 c', 'Kepler 186 d',\n",
       "       'Kepler 186 e', 'Kepler 186 f', 'Kepler 414 b', 'L 98-59 d',\n",
       "       'LHS 1140 b', 'LHS 1140c', 'Trappist-1 b', 'Trappist-1 c',\n",
       "       'Trappist-1 d', 'Trappist-1 e', 'Trappist-1 f', 'Trappist-1 g',\n",
       "       'Trappist-1 h'], dtype=object)"
      ]
     },
     "execution_count": 149,
     "metadata": {},
     "output_type": "execute_result"
    }
   ],
   "source": [
    "(quick['Planet'].values)"
   ]
  },
  {
   "cell_type": "code",
   "execution_count": 55,
   "metadata": {},
   "outputs": [
    {
     "data": {
      "text/plain": [
       "array([250. ,  16.6,   nan, ...,   nan,   nan,   nan])"
      ]
     },
     "execution_count": 55,
     "metadata": {},
     "output_type": "execute_result"
    }
   ],
   "source": [
    "full_table['masse'].values"
   ]
  },
  {
   "cell_type": "code",
   "execution_count": null,
   "metadata": {},
   "outputs": [],
   "source": []
  },
  {
   "cell_type": "code",
   "execution_count": 107,
   "metadata": {},
   "outputs": [],
   "source": [
    "frames = [l1,full_table]\n",
    "\n",
    "l1_masses = pd.concat(frames, axis=1, join=\"inner\")"
   ]
  },
  {
   "cell_type": "code",
   "execution_count": 110,
   "metadata": {},
   "outputs": [
    {
     "data": {
      "text/plain": [
       "array([2.5000000e+02, 1.6600000e+01,           nan,           nan,\n",
       "                 nan, 6.1659020e+02, 4.2271390e+02, 5.7463664e+02,\n",
       "       1.1441880e+02, 9.0300000e+01, 4.0364410e+03,           nan,\n",
       "       5.3427223e+02, 1.1886842e+03, 2.1000000e+01, 1.5900000e+00,\n",
       "       2.8604700e+02, 3.0511680e+02, 2.2056500e+02, 3.9300000e+00,\n",
       "                 nan])"
      ]
     },
     "execution_count": 110,
     "metadata": {},
     "output_type": "execute_result"
    }
   ],
   "source": [
    "l1_masses['masse'].values"
   ]
  },
  {
   "cell_type": "code",
   "execution_count": 150,
   "metadata": {},
   "outputs": [],
   "source": [
    "#l1_masses.to_csv('/Users/lupitatovar/Cool-Worlds/targets/targets_masses.csv')"
   ]
  },
  {
   "cell_type": "markdown",
   "metadata": {},
   "source": [
    "Cross matching with Lynnae's 2020 paper targets to see which ones are new targets"
   ]
  },
  {
   "cell_type": "code",
   "execution_count": 123,
   "metadata": {},
   "outputs": [],
   "source": [
    "quick = pd.read_table('/Users/lupitatovar/Cool-Worlds/targets/quick_table2.csv',skiprows=3, \n",
    "                    names=['Planet','R_P','M_P','H_Rad Europa-like Structure','H_Rad for Ganymede-like Structure',\n",
    "                           'H_Tidal','H_Total for Europa-like','H_Total for Ganymede-like','Type'])\n",
    "\n"
   ]
  },
  {
   "cell_type": "code",
   "execution_count": 152,
   "metadata": {},
   "outputs": [],
   "source": [
    "#quick"
   ]
  },
  {
   "cell_type": "code",
   "execution_count": null,
   "metadata": {},
   "outputs": [],
   "source": []
  },
  {
   "cell_type": "code",
   "execution_count": 153,
   "metadata": {},
   "outputs": [],
   "source": [
    "comparison = pd.read_csv('/Users/lupitatovar/Cool-Worlds/targets/targets_masses.csv')"
   ]
  },
  {
   "cell_type": "code",
   "execution_count": 188,
   "metadata": {},
   "outputs": [
    {
     "name": "stdout",
     "output_type": "stream",
     "text": [
      "    Unnamed: 0     Planet  Insolation    Period  Radius  Jup_Radius Discovery  \\\n",
      "12          20  TOI-700 d        0.85  37.42475   1.144    0.102052      TESS   \n",
      "\n",
      "        Status      name hostname  ...  st_teff st_log_lum    Jmag    Kmag  \\\n",
      "12   Confirmed  K2-254 c   K2-254  ...   4336.0  -0.826836  11.986  11.296   \n",
      "\n",
      "            ra       dec  flag_tran  flag_kepler  flag_k2  \\\n",
      "12  185.550793 -4.717291       True        False     True   \n",
      "\n",
      "                                                  url  \n",
      "12  https://exoplanetarchive.ipac.caltech.edu/over...  \n",
      "\n",
      "[1 rows x 42 columns]\n"
     ]
    }
   ],
   "source": [
    "print(comparison[12:])"
   ]
  },
  {
   "cell_type": "code",
   "execution_count": 173,
   "metadata": {},
   "outputs": [
    {
     "data": {
      "text/plain": [
       "0      250.00000\n",
       "1       16.60000\n",
       "2            NaN\n",
       "3            NaN\n",
       "4      616.59020\n",
       "5      422.71390\n",
       "6      574.63664\n",
       "7      114.41880\n",
       "8     4036.44100\n",
       "9            NaN\n",
       "10     534.27223\n",
       "11      21.00000\n",
       "12           NaN\n",
       "Name: masse, dtype: float64"
      ]
     },
     "execution_count": 173,
     "metadata": {},
     "output_type": "execute_result"
    }
   ],
   "source": [
    "(comparison['masse'])"
   ]
  },
  {
   "cell_type": "code",
   "execution_count": 174,
   "metadata": {},
   "outputs": [
    {
     "data": {
      "text/plain": [
       "(0.0, 20.0)"
      ]
     },
     "execution_count": 174,
     "metadata": {},
     "output_type": "execute_result"
    },
    {
     "data": {
      "image/png": "[encoded data removed]",
      "text/plain": [
       "<Figure size 800x500 with 1 Axes>"
      ]
     },
     "metadata": {
      "needs_background": "light"
     },
     "output_type": "display_data"
    }
   ],
   "source": [
    "plt.scatter(comparison['masse'].values,comparison['Radius'].values)\n",
    "plt.scatter(comparison['masse_est'].values,comparison['Radius'].values)\n",
    "plt.xlabel('Mass (Earths)')\n",
    "plt.ylabel('Radius (Earth Radii)')\n",
    "plt.tick_params(direction='out',width=1.5,length=6,pad=7)\n",
    "plt.minorticks_on()\n",
    "plt.xlim(0,20)\n",
    "#plt.legend(bbox_to_anchor=(1.01, 1), loc='upper left', borderaxespad=0.,fontsize=14)"
   ]
  },
  {
   "cell_type": "code",
   "execution_count": 166,
   "metadata": {},
   "outputs": [
    {
     "data": {
      "image/png": "[encoded data removed]",
      "text/plain": [
       "<Figure size 800x500 with 1 Axes>"
      ]
     },
     "metadata": {
      "needs_background": "light"
     },
     "output_type": "display_data"
    }
   ],
   "source": [
    "plt.scatter(comparison['Insolation'].values,comparison['Radius'].values)\n",
    "#plt.scatter(comparison['Insolation'].values,comparison['rade_est'].values)\n",
    "plt.xlabel('Insolation (Earths)')\n",
    "plt.ylabel('Radius (Earth Radii)')\n",
    "plt.tick_params(direction='out',width=1.5,length=6,pad=7)\n",
    "plt.minorticks_on()\n",
    "#plt.legend(bbox_to_anchor=(1.01, 1), loc='upper left', borderaxespad=0.,fontsize=14)"
   ]
  },
  {
   "cell_type": "code",
   "execution_count": null,
   "metadata": {},
   "outputs": [],
   "source": []
  }
 ],
 "metadata": {
  "kernelspec": {
   "display_name": "Python3",
   "language": "python",
   "name": "python3"
  },
  "language_info": {
   "codemirror_mode": {
    "name": "ipython",
    "version": 3
   },
   "file_extension": ".py",
   "mimetype": "text/x-python",
   "name": "python",
   "nbconvert_exporter": "python",
   "pygments_lexer": "ipython3",
   "version": "3.7.9"
  }
 },
 "nbformat": 4,
 "nbformat_minor": 4
}
