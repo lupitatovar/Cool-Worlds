{
 "cells": [
  {
   "cell_type": "code",
   "execution_count": 1,
   "metadata": {},
   "outputs": [],
   "source": [
    "%matplotlib inline\n",
    "import numpy as np\n",
    "import matplotlib.pyplot as plt\n",
    "import pandas as pd\n",
    "import astropy\n",
    "import lightkurve as lk\n",
    "from scipy import *\n",
    "from astropy import constants as ac"
   ]
  },
  {
   "cell_type": "code",
   "execution_count": 2,
   "metadata": {},
   "outputs": [],
   "source": [
    "from matplotlib import rcParams\n",
    "rcParams[\"savefig.dpi\"] = 100\n",
    "rcParams[\"figure.dpi\"] = 100\n",
    "rcParams[\"font.size\"] = 20\n",
    "rcParams[\"figure.figsize\"] = [8, 5]\n",
    "rcParams[\"font.family\"] = \"sans-serif\"\n",
    "rcParams[\"font.sans-serif\"] = [\"Computer Modern Sans Serif\"]\n",
    "rcParams[\"text.usetex\"] = True\n",
    "plt.rcParams['axes.linewidth']=1.5"
   ]
  },
  {
   "cell_type": "markdown",
   "metadata": {},
   "source": [
    "### Importing in targets from ExoPlots\n",
    "\n",
    "https://ethankruse.github.io/exoplots/insolation-radius.html"
   ]
  },
  {
   "cell_type": "code",
   "execution_count": 3,
   "metadata": {},
   "outputs": [
    {
     "data": {
      "text/html": [
       "<div>\n",
       "<style scoped>\n",
       "    .dataframe tbody tr th:only-of-type {\n",
       "        vertical-align: middle;\n",
       "    }\n",
       "\n",
       "    .dataframe tbody tr th {\n",
       "        vertical-align: top;\n",
       "    }\n",
       "\n",
       "    .dataframe thead th {\n",
       "        text-align: right;\n",
       "    }\n",
       "</style>\n",
       "<table border=\"1\" class=\"dataframe\">\n",
       "  <thead>\n",
       "    <tr style=\"text-align: right;\">\n",
       "      <th></th>\n",
       "      <th>Planet</th>\n",
       "      <th>Insolation</th>\n",
       "      <th>Period</th>\n",
       "      <th>Radius</th>\n",
       "      <th>Jup_Radius</th>\n",
       "      <th>Discovery</th>\n",
       "      <th>Status</th>\n",
       "    </tr>\n",
       "  </thead>\n",
       "  <tbody>\n",
       "    <tr>\n",
       "      <th>0</th>\n",
       "      <td>Kepler-452 b</td>\n",
       "      <td>1.108504</td>\n",
       "      <td>384.843000</td>\n",
       "      <td>1.568324</td>\n",
       "      <td>0.139904</td>\n",
       "      <td>Kepler</td>\n",
       "      <td>Confirmed</td>\n",
       "    </tr>\n",
       "    <tr>\n",
       "      <th>1</th>\n",
       "      <td>Kepler-1649 c</td>\n",
       "      <td>0.942183</td>\n",
       "      <td>19.535270</td>\n",
       "      <td>1.069217</td>\n",
       "      <td>0.095381</td>\n",
       "      <td>Kepler</td>\n",
       "      <td>Confirmed</td>\n",
       "    </tr>\n",
       "    <tr>\n",
       "      <th>2</th>\n",
       "      <td>Kepler-1544 b</td>\n",
       "      <td>0.774587</td>\n",
       "      <td>168.811174</td>\n",
       "      <td>1.722270</td>\n",
       "      <td>0.153637</td>\n",
       "      <td>Kepler</td>\n",
       "      <td>Confirmed</td>\n",
       "    </tr>\n",
       "    <tr>\n",
       "      <th>3</th>\n",
       "      <td>Kepler-1410 b</td>\n",
       "      <td>1.060000</td>\n",
       "      <td>60.866168</td>\n",
       "      <td>1.780000</td>\n",
       "      <td>0.158787</td>\n",
       "      <td>Kepler</td>\n",
       "      <td>Confirmed</td>\n",
       "    </tr>\n",
       "    <tr>\n",
       "      <th>4</th>\n",
       "      <td>Kepler-296 f</td>\n",
       "      <td>0.620000</td>\n",
       "      <td>63.336270</td>\n",
       "      <td>1.800000</td>\n",
       "      <td>0.160571</td>\n",
       "      <td>Kepler</td>\n",
       "      <td>Confirmed</td>\n",
       "    </tr>\n",
       "    <tr>\n",
       "      <th>5</th>\n",
       "      <td>Kepler-283 c</td>\n",
       "      <td>0.966398</td>\n",
       "      <td>92.743711</td>\n",
       "      <td>1.944526</td>\n",
       "      <td>0.173464</td>\n",
       "      <td>Kepler</td>\n",
       "      <td>Confirmed</td>\n",
       "    </tr>\n",
       "    <tr>\n",
       "      <th>6</th>\n",
       "      <td>Kepler-62 f</td>\n",
       "      <td>0.509360</td>\n",
       "      <td>267.291000</td>\n",
       "      <td>1.533375</td>\n",
       "      <td>0.136786</td>\n",
       "      <td>Kepler</td>\n",
       "      <td>Confirmed</td>\n",
       "    </tr>\n",
       "    <tr>\n",
       "      <th>7</th>\n",
       "      <td>Kepler-442 b</td>\n",
       "      <td>1.007496</td>\n",
       "      <td>112.305300</td>\n",
       "      <td>1.375733</td>\n",
       "      <td>0.122724</td>\n",
       "      <td>Kepler</td>\n",
       "      <td>Confirmed</td>\n",
       "    </tr>\n",
       "    <tr>\n",
       "      <th>8</th>\n",
       "      <td>Kepler-1652 b</td>\n",
       "      <td>0.810000</td>\n",
       "      <td>38.097220</td>\n",
       "      <td>1.600000</td>\n",
       "      <td>0.142730</td>\n",
       "      <td>Kepler</td>\n",
       "      <td>Confirmed</td>\n",
       "    </tr>\n",
       "    <tr>\n",
       "      <th>9</th>\n",
       "      <td>Kepler-186 f</td>\n",
       "      <td>0.404084</td>\n",
       "      <td>129.944100</td>\n",
       "      <td>1.201500</td>\n",
       "      <td>0.107181</td>\n",
       "      <td>Kepler</td>\n",
       "      <td>Confirmed</td>\n",
       "    </tr>\n",
       "    <tr>\n",
       "      <th>10</th>\n",
       "      <td>Kepler-441 b</td>\n",
       "      <td>0.241811</td>\n",
       "      <td>207.248200</td>\n",
       "      <td>1.568436</td>\n",
       "      <td>0.139914</td>\n",
       "      <td>Kepler</td>\n",
       "      <td>Confirmed</td>\n",
       "    </tr>\n",
       "    <tr>\n",
       "      <th>11</th>\n",
       "      <td>Kepler-1229 b</td>\n",
       "      <td>0.629999</td>\n",
       "      <td>86.828989</td>\n",
       "      <td>1.556471</td>\n",
       "      <td>0.138847</td>\n",
       "      <td>Kepler</td>\n",
       "      <td>Confirmed</td>\n",
       "    </tr>\n",
       "    <tr>\n",
       "      <th>12</th>\n",
       "      <td>K2-3 d</td>\n",
       "      <td>1.003350</td>\n",
       "      <td>44.556460</td>\n",
       "      <td>1.499946</td>\n",
       "      <td>0.133804</td>\n",
       "      <td>K2</td>\n",
       "      <td>Confirmed</td>\n",
       "    </tr>\n",
       "    <tr>\n",
       "      <th>13</th>\n",
       "      <td>TRAPPIST-1 h</td>\n",
       "      <td>0.140000</td>\n",
       "      <td>18.772866</td>\n",
       "      <td>0.755000</td>\n",
       "      <td>0.067351</td>\n",
       "      <td>Multiple Observatories</td>\n",
       "      <td>Confirmed</td>\n",
       "    </tr>\n",
       "    <tr>\n",
       "      <th>14</th>\n",
       "      <td>LP 890-9 c</td>\n",
       "      <td>0.910000</td>\n",
       "      <td>8.457463</td>\n",
       "      <td>1.367000</td>\n",
       "      <td>0.121945</td>\n",
       "      <td>SPECULOOS Southern Observatory</td>\n",
       "      <td>Confirmed</td>\n",
       "    </tr>\n",
       "    <tr>\n",
       "      <th>15</th>\n",
       "      <td>TRAPPIST-1 g</td>\n",
       "      <td>0.250000</td>\n",
       "      <td>12.352446</td>\n",
       "      <td>1.129000</td>\n",
       "      <td>0.100714</td>\n",
       "      <td>Multiple Observatories</td>\n",
       "      <td>Confirmed</td>\n",
       "    </tr>\n",
       "    <tr>\n",
       "      <th>16</th>\n",
       "      <td>LHS 1140 b</td>\n",
       "      <td>0.500000</td>\n",
       "      <td>24.736940</td>\n",
       "      <td>1.635000</td>\n",
       "      <td>0.145852</td>\n",
       "      <td>MEarth Project</td>\n",
       "      <td>Confirmed</td>\n",
       "    </tr>\n",
       "    <tr>\n",
       "      <th>17</th>\n",
       "      <td>TRAPPIST-1 f</td>\n",
       "      <td>0.370000</td>\n",
       "      <td>9.207540</td>\n",
       "      <td>1.045000</td>\n",
       "      <td>0.093220</td>\n",
       "      <td>Multiple Observatories</td>\n",
       "      <td>Confirmed</td>\n",
       "    </tr>\n",
       "    <tr>\n",
       "      <th>18</th>\n",
       "      <td>TRAPPIST-1 e</td>\n",
       "      <td>0.650000</td>\n",
       "      <td>6.101013</td>\n",
       "      <td>0.920000</td>\n",
       "      <td>0.082070</td>\n",
       "      <td>Multiple Observatories</td>\n",
       "      <td>Confirmed</td>\n",
       "    </tr>\n",
       "    <tr>\n",
       "      <th>19</th>\n",
       "      <td>TRAPPIST-1 d</td>\n",
       "      <td>1.110000</td>\n",
       "      <td>4.049219</td>\n",
       "      <td>0.788000</td>\n",
       "      <td>0.070294</td>\n",
       "      <td>La Silla Observatory</td>\n",
       "      <td>Confirmed</td>\n",
       "    </tr>\n",
       "    <tr>\n",
       "      <th>20</th>\n",
       "      <td>TOI-700 d</td>\n",
       "      <td>0.850000</td>\n",
       "      <td>37.424750</td>\n",
       "      <td>1.144000</td>\n",
       "      <td>0.102052</td>\n",
       "      <td>TESS</td>\n",
       "      <td>Confirmed</td>\n",
       "    </tr>\n",
       "  </tbody>\n",
       "</table>\n",
       "</div>"
      ],
      "text/plain": [
       "           Planet  Insolation      Period    Radius  Jup_Radius  \\\n",
       "0    Kepler-452 b    1.108504  384.843000  1.568324    0.139904   \n",
       "1   Kepler-1649 c    0.942183   19.535270  1.069217    0.095381   \n",
       "2   Kepler-1544 b    0.774587  168.811174  1.722270    0.153637   \n",
       "3   Kepler-1410 b    1.060000   60.866168  1.780000    0.158787   \n",
       "4    Kepler-296 f    0.620000   63.336270  1.800000    0.160571   \n",
       "5    Kepler-283 c    0.966398   92.743711  1.944526    0.173464   \n",
       "6     Kepler-62 f    0.509360  267.291000  1.533375    0.136786   \n",
       "7    Kepler-442 b    1.007496  112.305300  1.375733    0.122724   \n",
       "8   Kepler-1652 b    0.810000   38.097220  1.600000    0.142730   \n",
       "9    Kepler-186 f    0.404084  129.944100  1.201500    0.107181   \n",
       "10   Kepler-441 b    0.241811  207.248200  1.568436    0.139914   \n",
       "11  Kepler-1229 b    0.629999   86.828989  1.556471    0.138847   \n",
       "12         K2-3 d    1.003350   44.556460  1.499946    0.133804   \n",
       "13   TRAPPIST-1 h    0.140000   18.772866  0.755000    0.067351   \n",
       "14     LP 890-9 c    0.910000    8.457463  1.367000    0.121945   \n",
       "15   TRAPPIST-1 g    0.250000   12.352446  1.129000    0.100714   \n",
       "16     LHS 1140 b    0.500000   24.736940  1.635000    0.145852   \n",
       "17   TRAPPIST-1 f    0.370000    9.207540  1.045000    0.093220   \n",
       "18   TRAPPIST-1 e    0.650000    6.101013  0.920000    0.082070   \n",
       "19   TRAPPIST-1 d    1.110000    4.049219  0.788000    0.070294   \n",
       "20      TOI-700 d    0.850000   37.424750  1.144000    0.102052   \n",
       "\n",
       "                          Discovery      Status  \n",
       "0                            Kepler   Confirmed  \n",
       "1                            Kepler   Confirmed  \n",
       "2                            Kepler   Confirmed  \n",
       "3                            Kepler   Confirmed  \n",
       "4                            Kepler   Confirmed  \n",
       "5                            Kepler   Confirmed  \n",
       "6                            Kepler   Confirmed  \n",
       "7                            Kepler   Confirmed  \n",
       "8                            Kepler   Confirmed  \n",
       "9                            Kepler   Confirmed  \n",
       "10                           Kepler   Confirmed  \n",
       "11                           Kepler   Confirmed  \n",
       "12                               K2   Confirmed  \n",
       "13           Multiple Observatories   Confirmed  \n",
       "14   SPECULOOS Southern Observatory   Confirmed  \n",
       "15           Multiple Observatories   Confirmed  \n",
       "16                   MEarth Project   Confirmed  \n",
       "17           Multiple Observatories   Confirmed  \n",
       "18           Multiple Observatories   Confirmed  \n",
       "19             La Silla Observatory   Confirmed  \n",
       "20                             TESS   Confirmed  "
      ]
     },
     "execution_count": 3,
     "metadata": {},
     "output_type": "execute_result"
    }
   ],
   "source": [
    "l1 = pd.read_csv('/Users/lupitatovar/Cool-Worlds/targets/radius_iso_cut.csv',skiprows=1,\n",
    "                 names=['Planet','Insolation','Period','Radius','Jup_Radius','Discovery','Status'])\n",
    "l1"
   ]
  },
  {
   "cell_type": "code",
   "execution_count": 4,
   "metadata": {},
   "outputs": [],
   "source": [
    "kepler = l1[l1[\"Discovery\"].str.contains(\"Kepler\")]\n",
    "k2 = l1[l1[\"Discovery\"].str.contains(\"K2\")]\n",
    "tess = l1[l1[\"Discovery\"].str.contains(\"TESS\")]\n",
    "other = l1[l1[\"Discovery\"].str.contains(\"Mulitple Observatories|MEarth Project|La Silla Observatory|SPECULOOS Southern Observatory\")]"
   ]
  },
  {
   "cell_type": "code",
   "execution_count": 5,
   "metadata": {},
   "outputs": [
    {
     "name": "stdout",
     "output_type": "stream",
     "text": [
      "21\n"
     ]
    }
   ],
   "source": [
    "print(len(l1))"
   ]
  },
  {
   "cell_type": "markdown",
   "metadata": {},
   "source": [
    "### Re-creating exoplot style plot for specific targets of interest: https://ethankruse.github.io/exoplots/ "
   ]
  },
  {
   "cell_type": "code",
   "execution_count": 38,
   "metadata": {},
   "outputs": [
    {
     "data": {
      "image/png": "[encoded data removed]",
      "text/plain": [
       "<Figure size 800x500 with 1 Axes>"
      ]
     },
     "metadata": {
      "needs_background": "light"
     },
     "output_type": "display_data"
    }
   ],
   "source": [
    "#plt.scatter(l1['Insolation'].values,l1['Radius'].values)\n",
    "plt.scatter(kepler['Insolation'].values,kepler['Radius'].values,color = 'green', label = \"Kepler Confirmed\")\n",
    "plt.scatter(k2['Insolation'].values,k2['Radius'].values,color = 'C1', label = \"K2 Confirmed\")\n",
    "plt.scatter(tess['Insolation'].values,tess['Radius'].values,color = 'C0', label = \"TESS Confirmed\")\n",
    "plt.scatter(other['Insolation'].values,other['Radius'].values,color = 'purple', label = \"Other Confirmed\")\n",
    "plt.scatter(1,1,color='k',label='Earth',marker=\"^\")\n",
    "\n",
    "\n",
    "plt.xlabel('Insolation (Earths)')\n",
    "plt.ylabel('Radius (Earth Radii)')\n",
    "plt.tick_params(direction='out',width=1.5,length=6,pad=7)\n",
    "plt.minorticks_on()\n",
    "plt.legend(loc='lower left',fontsize=10)\n",
    "\n",
    "#plt.savefig('21_targets.pdf',bbox_inches='tight')"
   ]
  },
  {
   "cell_type": "markdown",
   "metadata": {},
   "source": [
    "Crossmatching with Ethan's exoplanet archive data file (https://raw.githubusercontent.com/ethankruse/exoplots/master/data/exoplots_data.csv) to get more data columns"
   ]
  },
  {
   "cell_type": "code",
   "execution_count": 7,
   "metadata": {},
   "outputs": [],
   "source": [
    "full_table=pd.read_csv('https://raw.githubusercontent.com/ethankruse/exoplots/master/data/exoplots_data.csv')\n",
    "##skiprows=,delim_whitespace=True,names=['',''])"
   ]
  },
  {
   "cell_type": "code",
   "execution_count": 148,
   "metadata": {},
   "outputs": [
    {
     "data": {
      "text/plain": [
       "array(['Kepler-452 b', 'Kepler-1649 c', 'Kepler-1544 b', 'Kepler-1410 b',\n",
       "       'Kepler-296 f', 'Kepler-283 c', 'Kepler-62 f', 'Kepler-442 b',\n",
       "       'Kepler-1652 b', 'Kepler-186 f', 'Kepler-441 b', 'Kepler-1229 b',\n",
       "       'K2-3 d', 'TRAPPIST-1 h', 'LP 890-9 c', 'TRAPPIST-1 g',\n",
       "       'LHS 1140 b', 'TRAPPIST-1 f', 'TRAPPIST-1 e', 'TRAPPIST-1 d',\n",
       "       'TOI-700 d'], dtype=object)"
      ]
     },
     "execution_count": 148,
     "metadata": {},
     "output_type": "execute_result"
    }
   ],
   "source": [
    "(l1['Planet'].values)\n",
    "#full_table['hostname'].values"
   ]
  },
  {
   "cell_type": "code",
   "execution_count": 149,
   "metadata": {},
   "outputs": [
    {
     "data": {
      "text/plain": [
       "array(['HD 219134 f', 'Kepler 11 b', 'Kepler 60 b', 'Kepler 60 c',\n",
       "       'Kepler 60 d', 'Kepler 62 c', 'Kepler 68 c', 'Kepler 80 e',\n",
       "       'Kepler 93 b', 'Kepler 114 c', 'Kepler 138 b', 'Kepler 138 c',\n",
       "       'Kepler 138 d', 'Kepler 186 b', 'Kepler 186 c', 'Kepler 186 d',\n",
       "       'Kepler 186 e', 'Kepler 186 f', 'Kepler 414 b', 'L 98-59 d',\n",
       "       'LHS 1140 b', 'LHS 1140c', 'Trappist-1 b', 'Trappist-1 c',\n",
       "       'Trappist-1 d', 'Trappist-1 e', 'Trappist-1 f', 'Trappist-1 g',\n",
       "       'Trappist-1 h'], dtype=object)"
      ]
     },
     "execution_count": 149,
     "metadata": {},
     "output_type": "execute_result"
    }
   ],
   "source": [
    "(quick['Planet'].values)"
   ]
  },
  {
   "cell_type": "code",
   "execution_count": 55,
   "metadata": {},
   "outputs": [
    {
     "data": {
      "text/plain": [
       "array([250. ,  16.6,   nan, ...,   nan,   nan,   nan])"
      ]
     },
     "execution_count": 55,
     "metadata": {},
     "output_type": "execute_result"
    }
   ],
   "source": [
    "full_table['masse'].values"
   ]
  },
  {
   "cell_type": "code",
   "execution_count": null,
   "metadata": {},
   "outputs": [],
   "source": []
  },
  {
   "cell_type": "code",
   "execution_count": 107,
   "metadata": {},
   "outputs": [],
   "source": [
    "frames = [l1,full_table]\n",
    "\n",
    "l1_masses = pd.concat(frames, axis=1, join=\"inner\")\n",
    "#l1_masses.to_csv('/Users/lupitatovar/Cool-Worlds/targets/targets_masses.csv')\n",
    "#l1_masses = pd.read_csv('/Users/lupitatovar/Cool-Worlds/targets/targets_masses.csv')"
   ]
  },
  {
   "cell_type": "code",
   "execution_count": 110,
   "metadata": {},
   "outputs": [
    {
     "data": {
      "text/plain": [
       "array([2.5000000e+02, 1.6600000e+01,           nan,           nan,\n",
       "                 nan, 6.1659020e+02, 4.2271390e+02, 5.7463664e+02,\n",
       "       1.1441880e+02, 9.0300000e+01, 4.0364410e+03,           nan,\n",
       "       5.3427223e+02, 1.1886842e+03, 2.1000000e+01, 1.5900000e+00,\n",
       "       2.8604700e+02, 3.0511680e+02, 2.2056500e+02, 3.9300000e+00,\n",
       "                 nan])"
      ]
     },
     "execution_count": 110,
     "metadata": {},
     "output_type": "execute_result"
    }
   ],
   "source": [
    "l1_masses['masse'].values"
   ]
  },
  {
   "cell_type": "code",
   "execution_count": 150,
   "metadata": {},
   "outputs": [],
   "source": [
    "#l1_masses.to_csv('/Users/lupitatovar/Cool-Worlds/targets/targets_masses.csv')"
   ]
  },
  {
   "cell_type": "code",
   "execution_count": 8,
   "metadata": {},
   "outputs": [],
   "source": [
    "#l1_masses = pd.read_csv('/Users/lupitatovar/Cool-Worlds/targets/targets_masses.csv')"
   ]
  },
  {
   "cell_type": "code",
   "execution_count": 11,
   "metadata": {},
   "outputs": [],
   "source": [
    "#l1_masses"
   ]
  },
  {
   "cell_type": "markdown",
   "metadata": {},
   "source": [
    "Cross matching with Lynnae's 2020 paper targets to see which ones are new targets"
   ]
  },
  {
   "cell_type": "code",
   "execution_count": 10,
   "metadata": {},
   "outputs": [],
   "source": [
    "quick = pd.read_table('/Users/lupitatovar/Cool-Worlds/targets/quick_table2.csv',skiprows=3, \n",
    "                    names=['Planet','R_P','M_P','H_Rad Europa-like Structure','H_Rad for Ganymede-like Structure',\n",
    "                           'H_Tidal','H_Total for Europa-like','H_Total for Ganymede-like','Type'])\n",
    "\n"
   ]
  },
  {
   "cell_type": "code",
   "execution_count": 152,
   "metadata": {},
   "outputs": [],
   "source": [
    "#quick"
   ]
  },
  {
   "cell_type": "code",
   "execution_count": null,
   "metadata": {},
   "outputs": [],
   "source": []
  },
  {
   "cell_type": "code",
   "execution_count": 12,
   "metadata": {},
   "outputs": [],
   "source": [
    "comparison = pd.read_csv('/Users/lupitatovar/Cool-Worlds/targets/targets_masses.csv')"
   ]
  },
  {
   "cell_type": "code",
   "execution_count": 13,
   "metadata": {},
   "outputs": [
    {
     "name": "stdout",
     "output_type": "stream",
     "text": [
      "13\n"
     ]
    }
   ],
   "source": [
    "print(len(comparison))"
   ]
  },
  {
   "cell_type": "code",
   "execution_count": 77,
   "metadata": {},
   "outputs": [
    {
     "data": {
      "text/plain": [
       "(0.0, 10.0)"
      ]
     },
     "execution_count": 77,
     "metadata": {},
     "output_type": "execute_result"
    },
    {
     "data": {
      "image/png": "[encoded data removed]",
      "text/plain": [
       "<Figure size 800x500 with 1 Axes>"
      ]
     },
     "metadata": {
      "needs_background": "light"
     },
     "output_type": "display_data"
    }
   ],
   "source": [
    "plt.scatter(comparison['masse'].values,comparison['Radius'].values)\n",
    "plt.scatter(comparison['masse_est'].values,comparison['Radius'].values)\n",
    "plt.xlabel('Mass (Earths)')\n",
    "plt.ylabel('Radius (Earth Radii)')\n",
    "plt.tick_params(direction='out',width=1.5,length=6,pad=7)\n",
    "plt.minorticks_on()\n",
    "plt.xlim(0,10)\n",
    "#plt.legend(bbox_to_anchor=(1.01, 1), loc='upper left', borderaxespad=0.,fontsize=14)"
   ]
  },
  {
   "cell_type": "code",
   "execution_count": 16,
   "metadata": {},
   "outputs": [],
   "source": [
    "kepler_ = comparison[comparison[\"Discovery\"].str.contains(\"Kepler\")]\n",
    "k2_ = comparison[comparison[\"Discovery\"].str.contains(\"K2\")]\n",
    "tess_ = comparison[comparison[\"Discovery\"].str.contains(\"TESS\")]\n",
    "other_ = comparison[comparison[\"Discovery\"].str.contains(\"Mulitple Observatories|MEarth Project|La Silla Observatory|SPECULOOS Southern Observatory\")]"
   ]
  },
  {
   "cell_type": "code",
   "execution_count": 41,
   "metadata": {},
   "outputs": [
    {
     "data": {
      "image/png": "[encoded data removed]",
      "text/plain": [
       "<Figure size 800x500 with 1 Axes>"
      ]
     },
     "metadata": {
      "needs_background": "light"
     },
     "output_type": "display_data"
    }
   ],
   "source": [
    "#plt.scatter(comparison['Insolation'].values,comparison['Radius'].values)\n",
    "#plt.scatter(comparison['Insolation'].values,comparison['rade_est'].values)\n",
    "\n",
    "plt.scatter(kepler_['Insolation'].values,kepler_['Radius'].values,color = 'green', label = \"Kepler Confirmed\")\n",
    "plt.scatter(k2_['Insolation'].values,k2_['Radius'].values,color = 'C1', label = \"K2 Confirmed\")\n",
    "plt.scatter(tess_['Insolation'].values,tess_['Radius'].values,color = 'C0', label = \"TESS Confirmed\")\n",
    "plt.scatter(other_['Insolation'].values,other_['Radius'].values,color = 'purple', label = \"Other Confirmed\")\n",
    "plt.scatter(1,1,color='k',label='Earth',marker=\"^\")\n",
    "\n",
    "\n",
    "\n",
    "plt.xlabel('Insolation (Earths)')\n",
    "plt.ylabel('Radius (Earth Radii)')\n",
    "plt.tick_params(direction='out',width=1.5,length=6,pad=7)\n",
    "plt.minorticks_on()\n",
    "plt.legend(loc='lower left', fontsize=12)\n",
    "\n",
    "#plt.savefig('/Users/lupitatovar/Cool-Worlds/figures/new_targets.pdf',bbox_inches='tight')"
   ]
  },
  {
   "cell_type": "markdown",
   "metadata": {},
   "source": [
    "Making the mass cuts (less than or equal to 8 Earth Radii)"
   ]
  },
  {
   "cell_type": "code",
   "execution_count": 98,
   "metadata": {},
   "outputs": [
    {
     "data": {
      "text/plain": [
       "2"
      ]
     },
     "execution_count": 98,
     "metadata": {},
     "output_type": "execute_result"
    }
   ],
   "source": [
    "mass_mask = np.where((comparison['masse'].values <= 8) | (comparison['masse_est'].values <= 8))[0]\n",
    "len(mass_mask)"
   ]
  },
  {
   "cell_type": "code",
   "execution_count": 102,
   "metadata": {},
   "outputs": [
    {
     "name": "stdout",
     "output_type": "stream",
     "text": [
      "['Kepler-1544 b' 'TOI-700 d'] [0.77458663 0.85      ] [1.72227027 1.144     ]\n"
     ]
    }
   ],
   "source": [
    "print(comparison['Planet'].values[mass_mask],comparison['Insolation'].values[mass_mask],comparison['Radius'].values[mass_mask])"
   ]
  },
  {
   "cell_type": "code",
   "execution_count": 122,
   "metadata": {},
   "outputs": [
    {
     "data": {
      "image/png": "[encoded data removed]",
      "text/plain": [
       "<Figure size 800x500 with 1 Axes>"
      ]
     },
     "metadata": {
      "needs_background": "light"
     },
     "output_type": "display_data"
    }
   ],
   "source": [
    "plt.scatter(comparison['Insolation'].values[mass_mask][0],comparison['Radius'].values[mass_mask][0],color = 'green', label = \"Kepler Confirmed\")\n",
    "plt.scatter(comparison['Insolation'].values[mass_mask][1],comparison['Radius'].values[mass_mask][1],color = 'C0', label = \"TESS Confirmed\")\n",
    "#plt.scatter(comparison['Insolation'].values,comparison['rade_est'].values)\n",
    "\n",
    "#plt.scatter(kepler_['Insolation'].values,kepler_['Radius'].values,color = 'green', label = \"Kepler Confirmed\")\n",
    "#plt.scatter(k2_['Insolation'].values,k2_['Radius'].values,color = 'C1', label = \"K2 Confirmed\")\n",
    "#plt.scatter(tess_['Insolation'].values,tess_['Radius'].values,color = 'C0', label = \"TESS Confirmed\")\n",
    "#plt.scatter(other_['Insolation'].values,other_['Radius'].values,color = 'purple', label = \"Other Confirmed\")\n",
    "#plt.scatter(1,1,color='k',label='Earth',marker=\"^\")\n",
    "\n",
    "\n",
    "\n",
    "plt.xlabel('Insolation (Earths)')\n",
    "plt.ylabel('Radius (Earth Radii)')\n",
    "plt.tick_params(direction='out',width=1.5,length=6,pad=7)\n",
    "plt.minorticks_on()\n",
    "plt.legend(fontsize=12)\n",
    "plt.text(.773, 1.67, 'Kepler-1544 b', fontsize=10)\n",
    "plt.text(.844, 1.17, 'TOI-700 d', fontsize=10)\n",
    "\n",
    "#plt.savefig('/Users/lupitatovar/Cool-Worlds/figures/confirmed_m_r_i.pdf',bbox_inches='tight')"
   ]
  },
  {
   "cell_type": "markdown",
   "metadata": {},
   "source": [
    "### Adding in the Candidates"
   ]
  },
  {
   "cell_type": "code",
   "execution_count": 43,
   "metadata": {},
   "outputs": [
    {
     "data": {
      "text/html": [
       "<div>\n",
       "<style scoped>\n",
       "    .dataframe tbody tr th:only-of-type {\n",
       "        vertical-align: middle;\n",
       "    }\n",
       "\n",
       "    .dataframe tbody tr th {\n",
       "        vertical-align: top;\n",
       "    }\n",
       "\n",
       "    .dataframe thead th {\n",
       "        text-align: right;\n",
       "    }\n",
       "</style>\n",
       "<table border=\"1\" class=\"dataframe\">\n",
       "  <thead>\n",
       "    <tr style=\"text-align: right;\">\n",
       "      <th></th>\n",
       "      <th>Planet</th>\n",
       "      <th>Insolation</th>\n",
       "      <th>Period</th>\n",
       "      <th>Radius</th>\n",
       "      <th>Jup_Radius</th>\n",
       "      <th>Discovery</th>\n",
       "      <th>Status</th>\n",
       "    </tr>\n",
       "  </thead>\n",
       "  <tbody>\n",
       "    <tr>\n",
       "      <th>0</th>\n",
       "      <td>KOI-4427.01</td>\n",
       "      <td>0.318849</td>\n",
       "      <td>147.661729</td>\n",
       "      <td>1.797673</td>\n",
       "      <td>0.160363</td>\n",
       "      <td>Kepler</td>\n",
       "      <td>Candidate</td>\n",
       "    </tr>\n",
       "    <tr>\n",
       "      <th>1</th>\n",
       "      <td>KOI-4848.01</td>\n",
       "      <td>0.160519</td>\n",
       "      <td>384.6961</td>\n",
       "      <td>1.880000</td>\n",
       "      <td>0.167707</td>\n",
       "      <td>Kepler</td>\n",
       "      <td>Candidate</td>\n",
       "    </tr>\n",
       "    <tr>\n",
       "      <th>2</th>\n",
       "      <td>KOI-7716.01</td>\n",
       "      <td>0.434274</td>\n",
       "      <td>483.36405</td>\n",
       "      <td>1.503482</td>\n",
       "      <td>0.134120</td>\n",
       "      <td>Kepler</td>\n",
       "      <td>Candidate</td>\n",
       "    </tr>\n",
       "    <tr>\n",
       "      <th>3</th>\n",
       "      <td>KOI-4878.01</td>\n",
       "      <td>0.933017</td>\n",
       "      <td>449.01499</td>\n",
       "      <td>1.020524</td>\n",
       "      <td>0.091037</td>\n",
       "      <td>Kepler</td>\n",
       "      <td>Candidate</td>\n",
       "    </tr>\n",
       "    <tr>\n",
       "      <th>4</th>\n",
       "      <td>KOI-5087.01</td>\n",
       "      <td>0.332875</td>\n",
       "      <td>651.07431</td>\n",
       "      <td>1.141911</td>\n",
       "      <td>0.101865</td>\n",
       "      <td>Kepler</td>\n",
       "      <td>Candidate</td>\n",
       "    </tr>\n",
       "    <tr>\n",
       "      <th>5</th>\n",
       "      <td>KOI-5227.01</td>\n",
       "      <td>0.598983</td>\n",
       "      <td>371.56492</td>\n",
       "      <td>1.611944</td>\n",
       "      <td>0.143795</td>\n",
       "      <td>Kepler</td>\n",
       "      <td>Candidate</td>\n",
       "    </tr>\n",
       "    <tr>\n",
       "      <th>6</th>\n",
       "      <td>KOI-5236.01</td>\n",
       "      <td>0.811569</td>\n",
       "      <td>550.86514</td>\n",
       "      <td>1.921435</td>\n",
       "      <td>0.171404</td>\n",
       "      <td>Kepler</td>\n",
       "      <td>Candidate</td>\n",
       "    </tr>\n",
       "    <tr>\n",
       "      <th>7</th>\n",
       "      <td>KOI-5130.01</td>\n",
       "      <td>0.430720</td>\n",
       "      <td>370.05918</td>\n",
       "      <td>1.900000</td>\n",
       "      <td>0.169492</td>\n",
       "      <td>Kepler</td>\n",
       "      <td>Candidate</td>\n",
       "    </tr>\n",
       "    <tr>\n",
       "      <th>8</th>\n",
       "      <td>KOI-5408.01</td>\n",
       "      <td>0.354582</td>\n",
       "      <td>415.748785</td>\n",
       "      <td>1.710821</td>\n",
       "      <td>0.152616</td>\n",
       "      <td>Kepler</td>\n",
       "      <td>Candidate</td>\n",
       "    </tr>\n",
       "    <tr>\n",
       "      <th>9</th>\n",
       "      <td>KOI-5789.01</td>\n",
       "      <td>0.319386</td>\n",
       "      <td>383.26217</td>\n",
       "      <td>1.532865</td>\n",
       "      <td>0.136741</td>\n",
       "      <td>Kepler</td>\n",
       "      <td>Candidate</td>\n",
       "    </tr>\n",
       "    <tr>\n",
       "      <th>10</th>\n",
       "      <td>KOI-5798.01</td>\n",
       "      <td>0.403587</td>\n",
       "      <td>318.25858</td>\n",
       "      <td>1.963136</td>\n",
       "      <td>0.175124</td>\n",
       "      <td>Kepler</td>\n",
       "      <td>Candidate</td>\n",
       "    </tr>\n",
       "    <tr>\n",
       "      <th>11</th>\n",
       "      <td>KOI-5556.01</td>\n",
       "      <td>0.331693</td>\n",
       "      <td>631.99116</td>\n",
       "      <td>1.608549</td>\n",
       "      <td>0.143492</td>\n",
       "      <td>Kepler</td>\n",
       "      <td>Candidate</td>\n",
       "    </tr>\n",
       "    <tr>\n",
       "      <th>12</th>\n",
       "      <td>KOI-5810.01</td>\n",
       "      <td>0.545106</td>\n",
       "      <td>425.593391</td>\n",
       "      <td>1.395906</td>\n",
       "      <td>0.124523</td>\n",
       "      <td>Kepler</td>\n",
       "      <td>Candidate</td>\n",
       "    </tr>\n",
       "    <tr>\n",
       "      <th>13</th>\n",
       "      <td>KOI-5457.01</td>\n",
       "      <td>0.891095</td>\n",
       "      <td>578.21623</td>\n",
       "      <td>1.487367</td>\n",
       "      <td>0.132682</td>\n",
       "      <td>Kepler</td>\n",
       "      <td>Candidate</td>\n",
       "    </tr>\n",
       "    <tr>\n",
       "      <th>14</th>\n",
       "      <td>KOI-5715.01</td>\n",
       "      <td>0.987408</td>\n",
       "      <td>189.961729</td>\n",
       "      <td>1.927399</td>\n",
       "      <td>0.171936</td>\n",
       "      <td>Kepler</td>\n",
       "      <td>Candidate</td>\n",
       "    </tr>\n",
       "    <tr>\n",
       "      <th>15</th>\n",
       "      <td>KOI-5609.01</td>\n",
       "      <td>0.279401</td>\n",
       "      <td>535.1515</td>\n",
       "      <td>1.489459</td>\n",
       "      <td>0.132869</td>\n",
       "      <td>Kepler</td>\n",
       "      <td>Candidate</td>\n",
       "    </tr>\n",
       "    <tr>\n",
       "      <th>16</th>\n",
       "      <td>KOI-5616.01</td>\n",
       "      <td>0.151224</td>\n",
       "      <td>441.61919</td>\n",
       "      <td>1.894865</td>\n",
       "      <td>0.169033</td>\n",
       "      <td>Kepler</td>\n",
       "      <td>Candidate</td>\n",
       "    </tr>\n",
       "    <tr>\n",
       "      <th>17</th>\n",
       "      <td>KOI-5755.01</td>\n",
       "      <td>0.458060</td>\n",
       "      <td>388.67155</td>\n",
       "      <td>1.503236</td>\n",
       "      <td>0.134098</td>\n",
       "      <td>Kepler</td>\n",
       "      <td>Candidate</td>\n",
       "    </tr>\n",
       "    <tr>\n",
       "      <th>18</th>\n",
       "      <td>KOI-5506.01</td>\n",
       "      <td>0.822176</td>\n",
       "      <td>641.60204</td>\n",
       "      <td>1.992590</td>\n",
       "      <td>0.177751</td>\n",
       "      <td>Kepler</td>\n",
       "      <td>Candidate</td>\n",
       "    </tr>\n",
       "    <tr>\n",
       "      <th>19</th>\n",
       "      <td>KOI-5387.01</td>\n",
       "      <td>0.225947</td>\n",
       "      <td>297.78282</td>\n",
       "      <td>1.352441</td>\n",
       "      <td>0.120646</td>\n",
       "      <td>Kepler</td>\n",
       "      <td>Candidate</td>\n",
       "    </tr>\n",
       "    <tr>\n",
       "      <th>20</th>\n",
       "      <td>KOI-5389.01</td>\n",
       "      <td>0.536408</td>\n",
       "      <td>365.739893</td>\n",
       "      <td>1.581144</td>\n",
       "      <td>0.141048</td>\n",
       "      <td>Kepler</td>\n",
       "      <td>Candidate</td>\n",
       "    </tr>\n",
       "    <tr>\n",
       "      <th>21</th>\n",
       "      <td>KOI-5643.01</td>\n",
       "      <td>0.263029</td>\n",
       "      <td>570.01886</td>\n",
       "      <td>1.578987</td>\n",
       "      <td>0.140855</td>\n",
       "      <td>Kepler</td>\n",
       "      <td>Candidate</td>\n",
       "    </tr>\n",
       "    <tr>\n",
       "      <th>22</th>\n",
       "      <td>KOI-5938.01</td>\n",
       "      <td>0.994821</td>\n",
       "      <td>545.205601</td>\n",
       "      <td>1.751983</td>\n",
       "      <td>0.156287</td>\n",
       "      <td>Kepler</td>\n",
       "      <td>Candidate</td>\n",
       "    </tr>\n",
       "    <tr>\n",
       "      <th>23</th>\n",
       "      <td>KOI-5948.01</td>\n",
       "      <td>0.715158</td>\n",
       "      <td>398.51312</td>\n",
       "      <td>1.398538</td>\n",
       "      <td>0.124758</td>\n",
       "      <td>Kepler</td>\n",
       "      <td>Candidate</td>\n",
       "    </tr>\n",
       "    <tr>\n",
       "      <th>24</th>\n",
       "      <td>KOI-5949.01</td>\n",
       "      <td>0.694553</td>\n",
       "      <td>559.785594</td>\n",
       "      <td>1.717552</td>\n",
       "      <td>0.153216</td>\n",
       "      <td>Kepler</td>\n",
       "      <td>Candidate</td>\n",
       "    </tr>\n",
       "    <tr>\n",
       "      <th>25</th>\n",
       "      <td>KOI-5971.01</td>\n",
       "      <td>0.117380</td>\n",
       "      <td>493.30572</td>\n",
       "      <td>1.080000</td>\n",
       "      <td>0.096343</td>\n",
       "      <td>Kepler</td>\n",
       "      <td>Candidate</td>\n",
       "    </tr>\n",
       "    <tr>\n",
       "      <th>26</th>\n",
       "      <td>KOI-5978.01</td>\n",
       "      <td>0.458397</td>\n",
       "      <td>364.18129</td>\n",
       "      <td>1.780000</td>\n",
       "      <td>0.158787</td>\n",
       "      <td>Kepler</td>\n",
       "      <td>Candidate</td>\n",
       "    </tr>\n",
       "    <tr>\n",
       "      <th>27</th>\n",
       "      <td>KOI-5870.01</td>\n",
       "      <td>0.713900</td>\n",
       "      <td>132.114</td>\n",
       "      <td>0.886233</td>\n",
       "      <td>0.079057</td>\n",
       "      <td>Kepler</td>\n",
       "      <td>Candidate</td>\n",
       "    </tr>\n",
       "    <tr>\n",
       "      <th>28</th>\n",
       "      <td>KOI-5893.01</td>\n",
       "      <td>0.913401</td>\n",
       "      <td>405.6296</td>\n",
       "      <td>1.981266</td>\n",
       "      <td>0.176741</td>\n",
       "      <td>Kepler</td>\n",
       "      <td>Candidate</td>\n",
       "    </tr>\n",
       "    <tr>\n",
       "      <th>29</th>\n",
       "      <td>KOI-3456.02</td>\n",
       "      <td>0.996479</td>\n",
       "      <td>486.12702</td>\n",
       "      <td>1.324444</td>\n",
       "      <td>0.118148</td>\n",
       "      <td>Kepler</td>\n",
       "      <td>Candidate</td>\n",
       "    </tr>\n",
       "    <tr>\n",
       "      <th>30</th>\n",
       "      <td>KOI-2281.02</td>\n",
       "      <td>0.281633</td>\n",
       "      <td>455.27405</td>\n",
       "      <td>1.485403</td>\n",
       "      <td>0.132507</td>\n",
       "      <td>Kepler</td>\n",
       "      <td>Candidate</td>\n",
       "    </tr>\n",
       "    <tr>\n",
       "      <th>31</th>\n",
       "      <td>KOI-3401.02</td>\n",
       "      <td>0.966871</td>\n",
       "      <td>326.6708</td>\n",
       "      <td>1.937313</td>\n",
       "      <td>0.172820</td>\n",
       "      <td>Kepler</td>\n",
       "      <td>Candidate</td>\n",
       "    </tr>\n",
       "    <tr>\n",
       "      <th>32</th>\n",
       "      <td>KOI-7470.01</td>\n",
       "      <td>0.401260</td>\n",
       "      <td>392.50115</td>\n",
       "      <td>1.575000</td>\n",
       "      <td>0.140500</td>\n",
       "      <td>Kepler</td>\n",
       "      <td>Candidate</td>\n",
       "    </tr>\n",
       "    <tr>\n",
       "      <th>33</th>\n",
       "      <td>KOI-6343.01</td>\n",
       "      <td>0.615537</td>\n",
       "      <td>569.45051</td>\n",
       "      <td>1.960000</td>\n",
       "      <td>0.174844</td>\n",
       "      <td>Kepler</td>\n",
       "      <td>Candidate</td>\n",
       "    </tr>\n",
       "    <tr>\n",
       "      <th>34</th>\n",
       "      <td>KOI-7591.01</td>\n",
       "      <td>0.301194</td>\n",
       "      <td>328.32211</td>\n",
       "      <td>1.274701</td>\n",
       "      <td>0.113711</td>\n",
       "      <td>Kepler</td>\n",
       "      <td>Candidate</td>\n",
       "    </tr>\n",
       "    <tr>\n",
       "      <th>35</th>\n",
       "      <td>KOI-8107.01</td>\n",
       "      <td>1.000254</td>\n",
       "      <td>578.88761</td>\n",
       "      <td>1.192786</td>\n",
       "      <td>0.106404</td>\n",
       "      <td>Kepler</td>\n",
       "      <td>Candidate</td>\n",
       "    </tr>\n",
       "    <tr>\n",
       "      <th>36</th>\n",
       "      <td>KOI-8242.01</td>\n",
       "      <td>0.894477</td>\n",
       "      <td>331.55459</td>\n",
       "      <td>1.478851</td>\n",
       "      <td>0.131923</td>\n",
       "      <td>Kepler</td>\n",
       "      <td>Candidate</td>\n",
       "    </tr>\n",
       "    <tr>\n",
       "      <th>37</th>\n",
       "      <td>KOI-7923.01</td>\n",
       "      <td>0.429235</td>\n",
       "      <td>395.13138</td>\n",
       "      <td>0.910840</td>\n",
       "      <td>0.081252</td>\n",
       "      <td>Kepler</td>\n",
       "      <td>Candidate</td>\n",
       "    </tr>\n",
       "    <tr>\n",
       "      <th>38</th>\n",
       "      <td>KOI-8253.01</td>\n",
       "      <td>1.009868</td>\n",
       "      <td>400.11482</td>\n",
       "      <td>1.167947</td>\n",
       "      <td>0.104188</td>\n",
       "      <td>Kepler</td>\n",
       "      <td>Candidate</td>\n",
       "    </tr>\n",
       "    <tr>\n",
       "      <th>39</th>\n",
       "      <td>KOI-8047.01</td>\n",
       "      <td>0.383837</td>\n",
       "      <td>302.34971</td>\n",
       "      <td>1.862796</td>\n",
       "      <td>0.166173</td>\n",
       "      <td>Kepler</td>\n",
       "      <td>Candidate</td>\n",
       "    </tr>\n",
       "    <tr>\n",
       "      <th>40</th>\n",
       "      <td>KOI-7953.01</td>\n",
       "      <td>0.691632</td>\n",
       "      <td>432.96905</td>\n",
       "      <td>1.628521</td>\n",
       "      <td>0.145274</td>\n",
       "      <td>Kepler</td>\n",
       "      <td>Candidate</td>\n",
       "    </tr>\n",
       "    <tr>\n",
       "      <th>41</th>\n",
       "      <td>EPIC 246711015.01</td>\n",
       "      <td>0.554112</td>\n",
       "      <td>13.284219</td>\n",
       "      <td>1.233000</td>\n",
       "      <td>0.109991</td>\n",
       "      <td>K2</td>\n",
       "      <td>Candidate</td>\n",
       "    </tr>\n",
       "    <tr>\n",
       "      <th>42</th>\n",
       "      <td>EPIC 246711015.02</td>\n",
       "      <td>0.248873</td>\n",
       "      <td>24.213117</td>\n",
       "      <td>0.505000</td>\n",
       "      <td>0.045049</td>\n",
       "      <td>K2</td>\n",
       "      <td>Candidate</td>\n",
       "    </tr>\n",
       "    <tr>\n",
       "      <th>43</th>\n",
       "      <td>TOI-715.01</td>\n",
       "      <td>0.726103</td>\n",
       "      <td>19.2879717386223</td>\n",
       "      <td>1.594664</td>\n",
       "      <td>0.142254</td>\n",
       "      <td>TESS</td>\n",
       "      <td>Candidate</td>\n",
       "    </tr>\n",
       "    <tr>\n",
       "      <th>44</th>\n",
       "      <td>TOI-2263.01</td>\n",
       "      <td>0.857412</td>\n",
       "      <td>NaN</td>\n",
       "      <td>1.633089</td>\n",
       "      <td>0.145681</td>\n",
       "      <td>TESS</td>\n",
       "      <td>Candidate</td>\n",
       "    </tr>\n",
       "    <tr>\n",
       "      <th>45</th>\n",
       "      <td>TOI-2433.01</td>\n",
       "      <td>0.381980</td>\n",
       "      <td>NaN</td>\n",
       "      <td>1.810310</td>\n",
       "      <td>0.161491</td>\n",
       "      <td>TESS</td>\n",
       "      <td>Candidate</td>\n",
       "    </tr>\n",
       "    <tr>\n",
       "      <th>46</th>\n",
       "      <td>TOI-4328.01</td>\n",
       "      <td>0.122511</td>\n",
       "      <td>703.79367004987</td>\n",
       "      <td>1.860295</td>\n",
       "      <td>0.165950</td>\n",
       "      <td>TESS</td>\n",
       "      <td>Candidate</td>\n",
       "    </tr>\n",
       "  </tbody>\n",
       "</table>\n",
       "</div>"
      ],
      "text/plain": [
       "               Planet  Insolation             Period    Radius  Jup_Radius  \\\n",
       "0         KOI-4427.01    0.318849         147.661729  1.797673    0.160363   \n",
       "1         KOI-4848.01    0.160519           384.6961  1.880000    0.167707   \n",
       "2         KOI-7716.01    0.434274          483.36405  1.503482    0.134120   \n",
       "3         KOI-4878.01    0.933017          449.01499  1.020524    0.091037   \n",
       "4         KOI-5087.01    0.332875          651.07431  1.141911    0.101865   \n",
       "5         KOI-5227.01    0.598983          371.56492  1.611944    0.143795   \n",
       "6         KOI-5236.01    0.811569          550.86514  1.921435    0.171404   \n",
       "7         KOI-5130.01    0.430720          370.05918  1.900000    0.169492   \n",
       "8         KOI-5408.01    0.354582         415.748785  1.710821    0.152616   \n",
       "9         KOI-5789.01    0.319386          383.26217  1.532865    0.136741   \n",
       "10        KOI-5798.01    0.403587          318.25858  1.963136    0.175124   \n",
       "11        KOI-5556.01    0.331693          631.99116  1.608549    0.143492   \n",
       "12        KOI-5810.01    0.545106         425.593391  1.395906    0.124523   \n",
       "13        KOI-5457.01    0.891095          578.21623  1.487367    0.132682   \n",
       "14        KOI-5715.01    0.987408         189.961729  1.927399    0.171936   \n",
       "15        KOI-5609.01    0.279401           535.1515  1.489459    0.132869   \n",
       "16        KOI-5616.01    0.151224          441.61919  1.894865    0.169033   \n",
       "17        KOI-5755.01    0.458060          388.67155  1.503236    0.134098   \n",
       "18        KOI-5506.01    0.822176          641.60204  1.992590    0.177751   \n",
       "19        KOI-5387.01    0.225947          297.78282  1.352441    0.120646   \n",
       "20        KOI-5389.01    0.536408         365.739893  1.581144    0.141048   \n",
       "21        KOI-5643.01    0.263029          570.01886  1.578987    0.140855   \n",
       "22        KOI-5938.01    0.994821         545.205601  1.751983    0.156287   \n",
       "23        KOI-5948.01    0.715158          398.51312  1.398538    0.124758   \n",
       "24        KOI-5949.01    0.694553         559.785594  1.717552    0.153216   \n",
       "25        KOI-5971.01    0.117380          493.30572  1.080000    0.096343   \n",
       "26        KOI-5978.01    0.458397          364.18129  1.780000    0.158787   \n",
       "27        KOI-5870.01    0.713900            132.114  0.886233    0.079057   \n",
       "28        KOI-5893.01    0.913401           405.6296  1.981266    0.176741   \n",
       "29        KOI-3456.02    0.996479          486.12702  1.324444    0.118148   \n",
       "30        KOI-2281.02    0.281633          455.27405  1.485403    0.132507   \n",
       "31        KOI-3401.02    0.966871           326.6708  1.937313    0.172820   \n",
       "32        KOI-7470.01    0.401260          392.50115  1.575000    0.140500   \n",
       "33        KOI-6343.01    0.615537          569.45051  1.960000    0.174844   \n",
       "34        KOI-7591.01    0.301194          328.32211  1.274701    0.113711   \n",
       "35        KOI-8107.01    1.000254          578.88761  1.192786    0.106404   \n",
       "36        KOI-8242.01    0.894477          331.55459  1.478851    0.131923   \n",
       "37        KOI-7923.01    0.429235          395.13138  0.910840    0.081252   \n",
       "38        KOI-8253.01    1.009868          400.11482  1.167947    0.104188   \n",
       "39        KOI-8047.01    0.383837          302.34971  1.862796    0.166173   \n",
       "40        KOI-7953.01    0.691632          432.96905  1.628521    0.145274   \n",
       "41  EPIC 246711015.01    0.554112          13.284219  1.233000    0.109991   \n",
       "42  EPIC 246711015.02    0.248873          24.213117  0.505000    0.045049   \n",
       "43         TOI-715.01    0.726103   19.2879717386223  1.594664    0.142254   \n",
       "44        TOI-2263.01    0.857412                NaN  1.633089    0.145681   \n",
       "45        TOI-2433.01    0.381980                NaN  1.810310    0.161491   \n",
       "46        TOI-4328.01    0.122511    703.79367004987  1.860295    0.165950   \n",
       "\n",
       "   Discovery      Status  \n",
       "0     Kepler   Candidate  \n",
       "1     Kepler   Candidate  \n",
       "2     Kepler   Candidate  \n",
       "3     Kepler   Candidate  \n",
       "4     Kepler   Candidate  \n",
       "5     Kepler   Candidate  \n",
       "6     Kepler   Candidate  \n",
       "7     Kepler   Candidate  \n",
       "8     Kepler   Candidate  \n",
       "9     Kepler   Candidate  \n",
       "10    Kepler   Candidate  \n",
       "11    Kepler   Candidate  \n",
       "12    Kepler   Candidate  \n",
       "13    Kepler   Candidate  \n",
       "14    Kepler   Candidate  \n",
       "15    Kepler   Candidate  \n",
       "16    Kepler   Candidate  \n",
       "17    Kepler   Candidate  \n",
       "18    Kepler   Candidate  \n",
       "19    Kepler   Candidate  \n",
       "20    Kepler   Candidate  \n",
       "21    Kepler   Candidate  \n",
       "22    Kepler   Candidate  \n",
       "23    Kepler   Candidate  \n",
       "24    Kepler   Candidate  \n",
       "25    Kepler   Candidate  \n",
       "26    Kepler   Candidate  \n",
       "27    Kepler   Candidate  \n",
       "28    Kepler   Candidate  \n",
       "29    Kepler   Candidate  \n",
       "30    Kepler   Candidate  \n",
       "31    Kepler   Candidate  \n",
       "32    Kepler   Candidate  \n",
       "33    Kepler   Candidate  \n",
       "34    Kepler   Candidate  \n",
       "35    Kepler   Candidate  \n",
       "36    Kepler   Candidate  \n",
       "37    Kepler   Candidate  \n",
       "38    Kepler   Candidate  \n",
       "39    Kepler   Candidate  \n",
       "40    Kepler   Candidate  \n",
       "41        K2   Candidate  \n",
       "42        K2   Candidate  \n",
       "43      TESS   Candidate  \n",
       "44      TESS   Candidate  \n",
       "45      TESS   Candidate  \n",
       "46      TESS   Candidate  "
      ]
     },
     "execution_count": 43,
     "metadata": {},
     "output_type": "execute_result"
    }
   ],
   "source": [
    "candidates = pd.read_csv('/Users/lupitatovar/Cool-Worlds/targets/candidates.csv',skiprows=1,\n",
    "                 names=['Planet','Insolation','Period','Radius','Jup_Radius','Discovery','Status'])\n",
    "#candidates"
   ]
  },
  {
   "cell_type": "code",
   "execution_count": 63,
   "metadata": {},
   "outputs": [
    {
     "name": "stdout",
     "output_type": "stream",
     "text": [
      "47\n"
     ]
    }
   ],
   "source": [
    "print(len(candidates))"
   ]
  },
  {
   "cell_type": "code",
   "execution_count": 59,
   "metadata": {},
   "outputs": [],
   "source": [
    "kepler_c = candidates[candidates[\"Discovery\"].str.contains(\"Kepler\")]\n",
    "k2_c = candidates[candidates[\"Discovery\"].str.contains(\"K2\")]\n",
    "tess_c = candidates[candidates[\"Discovery\"].str.contains(\"TESS\")]"
   ]
  },
  {
   "cell_type": "code",
   "execution_count": 62,
   "metadata": {},
   "outputs": [
    {
     "data": {
      "image/png": "[encoded data removed]",
      "text/plain": [
       "<Figure size 800x500 with 1 Axes>"
      ]
     },
     "metadata": {
      "needs_background": "light"
     },
     "output_type": "display_data"
    }
   ],
   "source": [
    "#plt.scatter(candidates['Insolation'].values,candidates['Radius'].values)\n",
    "plt.scatter(kepler_c['Insolation'].values,kepler_c['Radius'].values,color = 'green', label = \"Kepler Candidate\")\n",
    "plt.scatter(k2_c['Insolation'].values,k2_c['Radius'].values,color = 'C1', label = \"K2 Candidate\")\n",
    "plt.scatter(tess_c['Insolation'].values,tess_c['Radius'].values,color = 'C0', label = \"TESS Candidate\")\n",
    "#plt.scatter(other['Insolation'].values,other['Radius'].values,color = 'purple', label = \"Other Confirmed\")\n",
    "#plt.scatter(1,1,color='k',label='Earth',marker=\"^\")\n",
    "\n",
    "\n",
    "plt.xlabel('Insolation (Earths)')\n",
    "plt.ylabel('Radius (Earth Radii)')\n",
    "plt.tick_params(direction='out',width=1.5,length=6,pad=7)\n",
    "plt.minorticks_on()\n",
    "plt.legend(fontsize=12)\n",
    "\n",
    "#plt.savefig('/Users/lupitatovar/Cool-Worlds/figures/candidates_inso_radii.pdf',bbox_inches='tight')"
   ]
  },
  {
   "cell_type": "code",
   "execution_count": 47,
   "metadata": {},
   "outputs": [],
   "source": [
    "c_frames = [candidates,full_table]\n",
    "candidate_masses = pd.concat(c_frames, axis=1, join=\"inner\")\n",
    "#candidate_masses\n",
    "#candidate_masses.to_csv('/Users/lupitatovar/Cool-Worlds/targets/candidate_masses.csv')\n",
    "candidate_masses = pd.read_csv('/Users/lupitatovar/Cool-Worlds/targets/candidate_masses.csv')"
   ]
  },
  {
   "cell_type": "code",
   "execution_count": 65,
   "metadata": {},
   "outputs": [
    {
     "data": {
      "text/plain": [
       "<matplotlib.legend.Legend at 0x7f89e0473910>"
      ]
     },
     "execution_count": 65,
     "metadata": {},
     "output_type": "execute_result"
    },
    {
     "data": {
      "image/png": "[encoded data removed]",
      "text/plain": [
       "<Figure size 800x500 with 1 Axes>"
      ]
     },
     "metadata": {
      "needs_background": "light"
     },
     "output_type": "display_data"
    }
   ],
   "source": [
    "plt.scatter(candidate_masses['masse'].values,candidate_masses['Radius'].values,label='masse')\n",
    "plt.scatter(candidate_masses['masse_est'].values,candidate_masses['Radius'].values,label='masse est')\n",
    "plt.xlabel('Mass (Earths)')\n",
    "plt.ylabel('Radius (Earth Radii)')\n",
    "plt.tick_params(direction='out',width=1.5,length=6,pad=7)\n",
    "plt.minorticks_on()\n",
    "plt.xlim(0,8)\n",
    "plt.legend(loc='lower left', fontsize=12)\n",
    "\n",
    "#plt.savefig('/Users/lupitatovar/Cool-Worlds/figures/candidates_inso_radii.pdf',bbox_inches='tight')"
   ]
  },
  {
   "cell_type": "code",
   "execution_count": 73,
   "metadata": {},
   "outputs": [
    {
     "name": "stdout",
     "output_type": "stream",
     "text": [
      "3\n",
      "15\n"
     ]
    }
   ],
   "source": [
    "# how many values less than mass 8?\n",
    "print(np.count_nonzero(candidate_masses['masse'].values <= 8))\n",
    "print(np.count_nonzero(candidate_masses['masse_est'].values <= 8))"
   ]
  },
  {
   "cell_type": "code",
   "execution_count": null,
   "metadata": {},
   "outputs": [],
   "source": [
    "kepler_c = candidate_masses[candidate_masses[\"Discovery\"].str.contains(\"Kepler\")]\n",
    "k2_c = candidate_masses[candidate_masses[\"Discovery\"].str.contains(\"K2\")]\n",
    "tess_c = candidate_masses[candidate_masses[\"Discovery\"].str.contains(\"TESS\")]"
   ]
  },
  {
   "cell_type": "code",
   "execution_count": 127,
   "metadata": {},
   "outputs": [
    {
     "data": {
      "text/plain": [
       "18"
      ]
     },
     "execution_count": 127,
     "metadata": {},
     "output_type": "execute_result"
    }
   ],
   "source": [
    "# Making a mass cut to match Lynnae's cuts of less than or equal to 8 earth masses\n",
    "mass_c_mask = np.where((candidate_masses['masse'].values <= 8) | (candidate_masses['masse_est'].values <= 8))[0]\n",
    "len(mass_c_mask)"
   ]
  },
  {
   "cell_type": "code",
   "execution_count": 132,
   "metadata": {},
   "outputs": [
    {
     "name": "stdout",
     "output_type": "stream",
     "text": [
      "41\n",
      "2\n",
      "4\n"
     ]
    }
   ],
   "source": [
    "print(len(np.where(candidate_masses[\"Discovery\"].str.contains(\"Kepler\"))[0]))\n",
    "print(len(np.where(candidate_masses[\"Discovery\"].str.contains(\"K2\"))[0]))\n",
    "print(len(np.where(candidate_masses[\"Discovery\"].str.contains(\"TESS\"))[0]))"
   ]
  },
  {
   "cell_type": "code",
   "execution_count": 171,
   "metadata": {},
   "outputs": [],
   "source": [
    "kepler_c_m = (np.where(candidate_masses[\"Discovery\"][mass_c_mask].str.contains(\"Kepler\"))[0])\n",
    "k2_c_m = (np.where(candidate_masses[\"Discovery\"][mass_c_mask].str.contains(\"K2\"))[0])\n",
    "tess_c_m = (np.where(candidate_masses[\"Discovery\"][mass_c_mask].str.contains(\"TESS\"))[0])"
   ]
  },
  {
   "cell_type": "code",
   "execution_count": null,
   "metadata": {},
   "outputs": [],
   "source": []
  },
  {
   "cell_type": "code",
   "execution_count": 172,
   "metadata": {},
   "outputs": [
    {
     "data": {
      "text/plain": [
       "array(['KOI-7716.01', 'KOI-5609.01', 'KOI-5387.01', 'KOI-5389.01',\n",
       "       'KOI-5938.01', 'KOI-5949.01', 'KOI-5971.01', 'KOI-5978.01',\n",
       "       'KOI-5870.01', 'KOI-5893.01', 'KOI-2281.02', 'KOI-6343.01',\n",
       "       'KOI-7591.01', 'KOI-8107.01', 'KOI-8253.01', 'KOI-8047.01',\n",
       "       'EPIC 246711015.02', 'TOI-2433.01'], dtype=object)"
      ]
     },
     "execution_count": 172,
     "metadata": {},
     "output_type": "execute_result"
    }
   ],
   "source": [
    "candidates['Planet'].values[mass_c_mask]"
   ]
  },
  {
   "cell_type": "code",
   "execution_count": 176,
   "metadata": {},
   "outputs": [
    {
     "name": "stdout",
     "output_type": "stream",
     "text": [
      "KOIs: ['KOI-4427.01' 'KOI-4848.01' 'KOI-7716.01' 'KOI-4878.01' 'KOI-5087.01'\n",
      " 'KOI-5227.01' 'KOI-5236.01' 'KOI-5130.01' 'KOI-5408.01' 'KOI-5789.01'\n",
      " 'KOI-5798.01' 'KOI-5556.01' 'KOI-5810.01' 'KOI-5457.01' 'KOI-5715.01'\n",
      " 'KOI-5609.01']\n"
     ]
    }
   ],
   "source": [
    "print('KOIs:', candidates['Planet'].values[kepler_c_m])"
   ]
  },
  {
   "cell_type": "code",
   "execution_count": 177,
   "metadata": {},
   "outputs": [
    {
     "name": "stdout",
     "output_type": "stream",
     "text": [
      "K2 Candidates: ['KOI-5616.01']\n",
      "TOIs: ['KOI-5755.01']\n"
     ]
    }
   ],
   "source": [
    "print('K2 Candidates:', candidates['Planet'].values[k2_c_m])\n",
    "print('TOIs:', candidates['Planet'].values[tess_c_m])"
   ]
  },
  {
   "cell_type": "code",
   "execution_count": 178,
   "metadata": {},
   "outputs": [
    {
     "data": {
      "image/png": "[encoded data removed]",
      "text/plain": [
       "<Figure size 800x500 with 1 Axes>"
      ]
     },
     "metadata": {
      "needs_background": "light"
     },
     "output_type": "display_data"
    }
   ],
   "source": [
    "#plt.scatter(candidates['Insolation'].values[mass_c_mask],candidates['Radius'].values[mass_c_mask])\n",
    "\n",
    "plt.scatter(candidates['Insolation'].values[kepler_c_m],candidates['Radius'].values[kepler_c_m],color = 'green', label = \"Kepler Candidate\")\n",
    "plt.scatter(candidates['Insolation'].values[k2_c_m],candidates['Radius'].values[k2_c_m],color = 'C1', label = \"K2 Candidate\")\n",
    "plt.scatter(candidates['Insolation'].values[tess_c_m],candidates['Radius'].values[tess_c_m],color = 'C0', label = \"TESS Candidate\")\n",
    "\n",
    "\n",
    "\n",
    "plt.xlabel('Insolation (Earths)')\n",
    "plt.ylabel('Radius (Earth Radii)')\n",
    "plt.tick_params(direction='out',width=1.5,length=6,pad=7)\n",
    "plt.minorticks_on()\n",
    "plt.legend(fontsize=12)\n",
    "\n",
    "#plt.savefig('/Users/lupitatovar/Cool-Worlds/figures/candidates_m_r_i.pdf',bbox_inches='tight')"
   ]
  },
  {
   "cell_type": "code",
   "execution_count": null,
   "metadata": {},
   "outputs": [],
   "source": []
  }
 ],
 "metadata": {
  "kernelspec": {
   "display_name": "Python3",
   "language": "python",
   "name": "python3"
  },
  "language_info": {
   "codemirror_mode": {
    "name": "ipython",
    "version": 3
   },
   "file_extension": ".py",
   "mimetype": "text/x-python",
   "name": "python",
   "nbconvert_exporter": "python",
   "pygments_lexer": "ipython3",
   "version": "3.7.9"
  }
 },
 "nbformat": 4,
 "nbformat_minor": 4
}
