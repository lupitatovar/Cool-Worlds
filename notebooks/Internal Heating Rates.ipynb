{
 "cells": [
  {
   "cell_type": "code",
   "execution_count": 1,
   "metadata": {},
   "outputs": [],
   "source": [
    "%matplotlib inline\n",
    "import numpy as np\n",
    "import matplotlib.pyplot as plt\n",
    "import pandas as pd\n",
    "import astropy\n",
    "import lightkurve as lk\n",
    "from scipy import *\n",
    "from astropy import constants as ac"
   ]
  },
  {
   "cell_type": "code",
   "execution_count": 2,
   "metadata": {},
   "outputs": [],
   "source": [
    "from matplotlib import rcParams\n",
    "rcParams[\"savefig.dpi\"] = 100\n",
    "rcParams[\"figure.dpi\"] = 100\n",
    "rcParams[\"font.size\"] = 20\n",
    "rcParams[\"figure.figsize\"] = [8, 5]\n",
    "rcParams[\"font.family\"] = \"sans-serif\"\n",
    "rcParams[\"font.sans-serif\"] = [\"Computer Modern Sans Serif\"]\n",
    "rcParams[\"text.usetex\"] = True\n",
    "plt.rcParams['axes.linewidth']=1.5"
   ]
  },
  {
   "cell_type": "code",
   "execution_count": 8,
   "metadata": {},
   "outputs": [
    {
     "data": {
      "text/latex": [
       "$6.6743 \\times 10^{-11} \\; \\mathrm{\\frac{m^{3}}{kg\\,s^{2}}}$"
      ],
      "text/plain": [
       "<<class 'astropy.constants.codata2018.CODATA2018'> name='Gravitational constant' value=6.6743e-11 uncertainty=1.5e-15 unit='m3 / (kg s2)' reference='CODATA 2018'>"
      ]
     },
     "execution_count": 8,
     "metadata": {},
     "output_type": "execute_result"
    }
   ],
   "source": [
    "ac.G"
   ]
  },
  {
   "cell_type": "markdown",
   "metadata": {},
   "source": [
    "$H_{tidal}$ represents the amount of heat imparted to the planet by tidal sources. It is well represented by the energy dissipation ($\\dot{E}$) and can be approximated as:\n",
    "\n",
    "$H_{tidal} \\approx \\dot{E}$ = $\\frac{21}{2}$$\\frac{k_2 \\omega^5 R_p^5 e^2}{GQ}$ where\n",
    "\n",
    "k2 = degree 2 love number; describes how a planet responds to the tide raised on it by its primary (0=rigid, 1.5= fluid); typically assumed to be 0.3 for studies of terrestrial and icy worlds\n",
    "\n",
    "$\\omega$ = orbital period\n",
    "\n",
    "Rp = planet radius\n",
    "\n",
    "e = orbital eccentricity\n",
    "\n",
    "G = gravitational constant\n",
    "\n",
    "Q = quality facotr (fraction of energy that is dissipated as heat in the interiors of planets); assumed to be 100 for tidal dissipation studies of moons in our SS"
   ]
  },
  {
   "cell_type": "code",
   "execution_count": 10,
   "metadata": {},
   "outputs": [],
   "source": [
    "def h_tidal(k2,p,r,e):\n",
    "    omega = (2*np.pi) / p\n",
    "    h_tidal = (21/2) * ((k2 * omega**5 * r**5 * e**2)/(ac.G * Q))\n",
    "    return h_tidal"
   ]
  },
  {
   "cell_type": "markdown",
   "metadata": {},
   "source": [
    "$H_{Radiogenic}$ is the total radiogenic heating rate of each planet. It depends on the mass of the planet mantle, which depnds on the volume of the mantle, and h.\n",
    "\n",
    "$H_{Radiogenic} = \\dot{h}M_{mantle}$ where:\n",
    "\n",
    "$M_{mantle} = 0.84 * \\frac{4}{3} \\pi R_p^3 \\rho_{mantle}$ and\n",
    "\n",
    "$V_{mantle} = 0.84V_p = 0.84 * \\frac{4}{3} \\pi R_p^3 $"
   ]
  },
  {
   "cell_type": "code",
   "execution_count": 11,
   "metadata": {},
   "outputs": [],
   "source": [
    "def volume(r):\n",
    "    volume = 0.84 * (4/3) * np.pi * r**3\n",
    "    return volume"
   ]
  },
  {
   "cell_type": "code",
   "execution_count": 12,
   "metadata": {},
   "outputs": [],
   "source": [
    "def Mantle(r,m):\n",
    "    rho = m / volume\n",
    "    Mantle = 0.84 * (4/3) * np.pi * r**3 * rho\n",
    "    return Mantle"
   ]
  },
  {
   "cell_type": "code",
   "execution_count": 6,
   "metadata": {},
   "outputs": [],
   "source": [
    "def h_radio(h,Mantle):\n",
    "    h_radio = h * Mantle\n",
    "    return h_radio"
   ]
  },
  {
   "cell_type": "code",
   "execution_count": 13,
   "metadata": {},
   "outputs": [],
   "source": [
    "def h_total(h_tidal,h_radio):\n",
    "    total = h_tidal + h_radio\n",
    "    return (total)"
   ]
  },
  {
   "cell_type": "code",
   "execution_count": null,
   "metadata": {},
   "outputs": [],
   "source": []
  }
 ],
 "metadata": {
  "kernelspec": {
   "display_name": "Python3",
   "language": "python",
   "name": "python3"
  },
  "language_info": {
   "codemirror_mode": {
    "name": "ipython",
    "version": 3
   },
   "file_extension": ".py",
   "mimetype": "text/x-python",
   "name": "python",
   "nbconvert_exporter": "python",
   "pygments_lexer": "ipython3",
   "version": "3.7.9"
  }
 },
 "nbformat": 4,
 "nbformat_minor": 4
}
