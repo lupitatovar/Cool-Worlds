{
 "cells": [
  {
   "cell_type": "code",
   "execution_count": 45,
   "metadata": {},
   "outputs": [],
   "source": [
    "%matplotlib inline\n",
    "import numpy as np\n",
    "import matplotlib.pyplot as plt\n",
    "import pandas as pd\n",
    "import astropy\n",
    "import lightkurve as lk\n",
    "from scipy import *\n",
    "from astropy import constants as ac\n",
    "from astropy import units as u"
   ]
  },
  {
   "cell_type": "code",
   "execution_count": 2,
   "metadata": {},
   "outputs": [],
   "source": [
    "from matplotlib import rcParams\n",
    "rcParams[\"savefig.dpi\"] = 100\n",
    "rcParams[\"figure.dpi\"] = 100\n",
    "rcParams[\"font.size\"] = 20\n",
    "rcParams[\"figure.figsize\"] = [8, 5]\n",
    "rcParams[\"font.family\"] = \"sans-serif\"\n",
    "rcParams[\"font.sans-serif\"] = [\"Computer Modern Sans Serif\"]\n",
    "rcParams[\"text.usetex\"] = True\n",
    "plt.rcParams['axes.linewidth']=1.5"
   ]
  },
  {
   "cell_type": "code",
   "execution_count": 3,
   "metadata": {},
   "outputs": [
    {
     "data": {
      "text/latex": [
       "$6.6743 \\times 10^{-11} \\; \\mathrm{\\frac{m^{3}}{kg\\,s^{2}}}$"
      ],
      "text/plain": [
       "<<class 'astropy.constants.codata2018.CODATA2018'> name='Gravitational constant' value=6.6743e-11 uncertainty=1.5e-15 unit='m3 / (kg s2)' reference='CODATA 2018'>"
      ]
     },
     "execution_count": 3,
     "metadata": {},
     "output_type": "execute_result"
    }
   ],
   "source": [
    "ac.G"
   ]
  },
  {
   "cell_type": "markdown",
   "metadata": {},
   "source": [
    "$H_{tidal}$ represents the amount of heat imparted to the planet by tidal sources. It is well represented by the energy dissipation ($\\dot{E}$) and can be approximated as:\n",
    "\n",
    "$H_{tidal} \\approx \\dot{E}$ = $\\frac{21}{2}$$\\frac{k_2 \\omega^5 R_p^5 e^2}{GQ}$ where\n",
    "\n",
    "k2 = degree 2 love number; describes how a planet responds to the tide raised on it by its primary (0=rigid, 1.5= fluid); typically assumed to be 0.3 for studies of terrestrial and icy worlds\n",
    "\n",
    "$\\omega$ = orbital period\n",
    "\n",
    "Rp = planet radius\n",
    "\n",
    "e = orbital eccentricity\n",
    "\n",
    "G = gravitational constant\n",
    "\n",
    "Q = quality factor (fraction of energy that is dissipated as heat in the interiors of planets); assumed to be 100 for tidal dissipation studies of moons in our SS"
   ]
  },
  {
   "cell_type": "code",
   "execution_count": 58,
   "metadata": {},
   "outputs": [
    {
     "data": {
      "text/latex": [
       "$6.6743 \\times 10^{-11} \\; \\mathrm{\\frac{m^{3}}{kg\\,s^{2}}}$"
      ],
      "text/plain": [
       "<<class 'astropy.constants.codata2018.CODATA2018'> name='Gravitational constant' value=6.6743e-11 uncertainty=1.5e-15 unit='m3 / (kg s2)' reference='CODATA 2018'>"
      ]
     },
     "execution_count": 58,
     "metadata": {},
     "output_type": "execute_result"
    }
   ],
   "source": [
    "ac.G #"
   ]
  },
  {
   "cell_type": "code",
   "execution_count": 66,
   "metadata": {},
   "outputs": [
    {
     "data": {
      "text/latex": [
       "$10747469 \\; \\mathrm{m}$"
      ],
      "text/plain": [
       "<Quantity 10747469.41904332 m>"
      ]
     },
     "execution_count": 66,
     "metadata": {},
     "output_type": "execute_result"
    }
   ],
   "source": [
    "((1.11**5)*ac.R_earth)"
   ]
  },
  {
   "cell_type": "code",
   "execution_count": 123,
   "metadata": {},
   "outputs": [],
   "source": [
    "def h_tidal(p,r,e):\n",
    "    k2 = 0.3  #(0=rigid, 1.5= fluid); typically assumed to be 0.3 for studies of terrestrial and icy worlds\n",
    "    omega = (2*np.pi) / p\n",
    "    Q = 100. #assumed to be 100 for tidal dissipation studies of moons in our SS\n",
    "    h_tidal = (21/2) * ((k2 * omega**5 * ((r**5)*ac.R_earth) * e**2)/(ac.G * Q))\n",
    "    return h_tidal"
   ]
  },
  {
   "cell_type": "markdown",
   "metadata": {},
   "source": [
    "$H_{Radiogenic}$ is the total radiogenic heating rate of each planet. It depends on the mass of the planet mantle, which depnds on the volume of the mantle, and h.\n",
    "\n",
    "$H_{Radiogenic} = \\dot{h}M_{mantle}$ where:\n",
    "\n",
    "$M_{mantle} = 0.84 * \\frac{4}{3} \\pi R_p^3 \\rho_{mantle}$ and\n",
    "\n",
    "$V_{mantle} = 0.84V_p = 0.84 * \\frac{4}{3} \\pi R_p^3 $"
   ]
  },
  {
   "cell_type": "code",
   "execution_count": 91,
   "metadata": {},
   "outputs": [],
   "source": [
    "def Mantle(r,m):\n",
    "    volume = 0.84 * (4/3) * np.pi * (r*ac.R_earth)**3\n",
    "    rho = m*ac.M_earth / volume\n",
    "    Mantle = 0.84 * (4/3) * np.pi * (r*ac.R_earth)**3 * rho\n",
    "    return Mantle"
   ]
  },
  {
   "cell_type": "code",
   "execution_count": 182,
   "metadata": {},
   "outputs": [],
   "source": [
    "def Mantle_Europa(r,m):\n",
    "    Eu_volume = 0.69 * (4/3) * np.pi * (r*ac.R_earth)**3\n",
    "    Eu_rho = m*ac.M_earth / Eu_volume\n",
    "    Europa_Mantle = 0.69 * (4/3) * np.pi * (r*ac.R_earth)**3 * Eu_rho\n",
    "    return Europa_Mantle"
   ]
  },
  {
   "cell_type": "code",
   "execution_count": 180,
   "metadata": {},
   "outputs": [],
   "source": [
    "def Mantle_Ganymede(r,m):\n",
    "    G_volume = 0.4 * (4/3) * np.pi * (r*ac.R_earth)**3\n",
    "    G_rho = m*ac.M_earth / G_volume\n",
    "    Ganymede_Mantle = 0.4 * (4/3) * np.pi * (r*ac.R_earth)**3 * G_rho\n",
    "    return Ganymede_Mantle"
   ]
  },
  {
   "cell_type": "code",
   "execution_count": 96,
   "metadata": {},
   "outputs": [],
   "source": [
    "def h_radio(Mantle):\n",
    "    h = 1.59 * 10** -11 *u.W*u.kg**-1 \n",
    "    h_radio = h * Mantle\n",
    "    return h_radio"
   ]
  },
  {
   "cell_type": "code",
   "execution_count": 132,
   "metadata": {},
   "outputs": [
    {
     "data": {
      "text/latex": [
       "$1.59 \\times 10^{-11} \\; \\mathrm{\\frac{W}{kg}}$"
      ],
      "text/plain": [
       "<Quantity 1.59e-11 W / kg>"
      ]
     },
     "execution_count": 132,
     "metadata": {},
     "output_type": "execute_result"
    }
   ],
   "source": [
    "h = 1.59 * 10** -11 *u.W*u.kg**-1 \n",
    "h"
   ]
  },
  {
   "cell_type": "code",
   "execution_count": 8,
   "metadata": {},
   "outputs": [],
   "source": [
    "def h_total(h_tidal,h_radio):\n",
    "    total = h_tidal + h_radio\n",
    "    return (total)"
   ]
  },
  {
   "cell_type": "markdown",
   "metadata": {},
   "source": [
    "Importing in the relevant list of candidates and confirmed planets"
   ]
  },
  {
   "cell_type": "code",
   "execution_count": 21,
   "metadata": {},
   "outputs": [],
   "source": [
    "candidates = pd.read_csv('/Users/lupitatovar/Cool-Worlds/targets/candidates_mri_list.csv')\n",
    "confirmed = pd.read_csv('/Users/lupitatovar/Cool-Worlds/targets/targets_masses.csv')"
   ]
  },
  {
   "cell_type": "code",
   "execution_count": 149,
   "metadata": {},
   "outputs": [
    {
     "name": "stdout",
     "output_type": "stream",
     "text": [
      "47\n",
      "14\n"
     ]
    }
   ],
   "source": [
    "print(len(candidates))\n",
    "print(len(confirmed))"
   ]
  },
  {
   "cell_type": "code",
   "execution_count": 130,
   "metadata": {},
   "outputs": [
    {
     "data": {
      "text/html": [
       "<div>\n",
       "<style scoped>\n",
       "    .dataframe tbody tr th:only-of-type {\n",
       "        vertical-align: middle;\n",
       "    }\n",
       "\n",
       "    .dataframe tbody tr th {\n",
       "        vertical-align: top;\n",
       "    }\n",
       "\n",
       "    .dataframe thead th {\n",
       "        text-align: right;\n",
       "    }\n",
       "</style>\n",
       "<table border=\"1\" class=\"dataframe\">\n",
       "  <thead>\n",
       "    <tr style=\"text-align: right;\">\n",
       "      <th></th>\n",
       "      <th>Unnamed: 0</th>\n",
       "      <th>name</th>\n",
       "      <th>insol</th>\n",
       "      <th>period</th>\n",
       "      <th>rade</th>\n",
       "      <th>radj</th>\n",
       "      <th>discoverymethod</th>\n",
       "      <th>Status</th>\n",
       "      <th>eccen</th>\n",
       "      <th>masse_est</th>\n",
       "      <th>masse</th>\n",
       "      <th>hostname</th>\n",
       "    </tr>\n",
       "  </thead>\n",
       "  <tbody>\n",
       "    <tr>\n",
       "      <th>0</th>\n",
       "      <td>0</td>\n",
       "      <td>Kepler-452 b</td>\n",
       "      <td>1.108504</td>\n",
       "      <td>384.843000</td>\n",
       "      <td>1.568324</td>\n",
       "      <td>0.139904</td>\n",
       "      <td>Kepler</td>\n",
       "      <td>Confirmed</td>\n",
       "      <td>0.000</td>\n",
       "      <td>3.082162</td>\n",
       "      <td>NaN</td>\n",
       "      <td>Kepler-452</td>\n",
       "    </tr>\n",
       "    <tr>\n",
       "      <th>1</th>\n",
       "      <td>1</td>\n",
       "      <td>Kepler-1649 c</td>\n",
       "      <td>0.942183</td>\n",
       "      <td>19.535270</td>\n",
       "      <td>1.069217</td>\n",
       "      <td>0.095381</td>\n",
       "      <td>Kepler</td>\n",
       "      <td>Confirmed</td>\n",
       "      <td>0.000</td>\n",
       "      <td>1.235315</td>\n",
       "      <td>NaN</td>\n",
       "      <td>Kepler-1649</td>\n",
       "    </tr>\n",
       "    <tr>\n",
       "      <th>2</th>\n",
       "      <td>2</td>\n",
       "      <td>Kepler-1544 b</td>\n",
       "      <td>0.774587</td>\n",
       "      <td>168.811174</td>\n",
       "      <td>1.722270</td>\n",
       "      <td>0.153637</td>\n",
       "      <td>Kepler</td>\n",
       "      <td>Confirmed</td>\n",
       "      <td>0.000</td>\n",
       "      <td>3.613241</td>\n",
       "      <td>NaN</td>\n",
       "      <td>Kepler-1544</td>\n",
       "    </tr>\n",
       "    <tr>\n",
       "      <th>3</th>\n",
       "      <td>3</td>\n",
       "      <td>Kepler-1410 b</td>\n",
       "      <td>1.060000</td>\n",
       "      <td>60.866168</td>\n",
       "      <td>1.780000</td>\n",
       "      <td>0.158787</td>\n",
       "      <td>Kepler</td>\n",
       "      <td>Confirmed</td>\n",
       "      <td>0.000</td>\n",
       "      <td>3.821265</td>\n",
       "      <td>NaN</td>\n",
       "      <td>Kepler-1410</td>\n",
       "    </tr>\n",
       "    <tr>\n",
       "      <th>4</th>\n",
       "      <td>4</td>\n",
       "      <td>Kepler-296 f</td>\n",
       "      <td>0.620000</td>\n",
       "      <td>63.336270</td>\n",
       "      <td>1.800000</td>\n",
       "      <td>0.160571</td>\n",
       "      <td>Kepler</td>\n",
       "      <td>Confirmed</td>\n",
       "      <td>0.330</td>\n",
       "      <td>3.894446</td>\n",
       "      <td>NaN</td>\n",
       "      <td>Kepler-296</td>\n",
       "    </tr>\n",
       "    <tr>\n",
       "      <th>5</th>\n",
       "      <td>5</td>\n",
       "      <td>Kepler-283 c</td>\n",
       "      <td>0.966398</td>\n",
       "      <td>92.743711</td>\n",
       "      <td>1.944526</td>\n",
       "      <td>0.173464</td>\n",
       "      <td>Kepler</td>\n",
       "      <td>Confirmed</td>\n",
       "      <td>0.000</td>\n",
       "      <td>4.440091</td>\n",
       "      <td>NaN</td>\n",
       "      <td>Kepler-283</td>\n",
       "    </tr>\n",
       "    <tr>\n",
       "      <th>6</th>\n",
       "      <td>6</td>\n",
       "      <td>Kepler-62 f</td>\n",
       "      <td>0.509360</td>\n",
       "      <td>267.291000</td>\n",
       "      <td>1.533375</td>\n",
       "      <td>0.136786</td>\n",
       "      <td>Kepler</td>\n",
       "      <td>Confirmed</td>\n",
       "      <td>0.000</td>\n",
       "      <td>2.966459</td>\n",
       "      <td>NaN</td>\n",
       "      <td>Kepler-62</td>\n",
       "    </tr>\n",
       "    <tr>\n",
       "      <th>7</th>\n",
       "      <td>7</td>\n",
       "      <td>Kepler-442 b</td>\n",
       "      <td>1.007496</td>\n",
       "      <td>112.305300</td>\n",
       "      <td>1.375733</td>\n",
       "      <td>0.122724</td>\n",
       "      <td>Kepler</td>\n",
       "      <td>Confirmed</td>\n",
       "      <td>0.040</td>\n",
       "      <td>2.467450</td>\n",
       "      <td>NaN</td>\n",
       "      <td>Kepler-442</td>\n",
       "    </tr>\n",
       "    <tr>\n",
       "      <th>8</th>\n",
       "      <td>8</td>\n",
       "      <td>Kepler-1652 b</td>\n",
       "      <td>0.810000</td>\n",
       "      <td>38.097220</td>\n",
       "      <td>1.600000</td>\n",
       "      <td>0.142730</td>\n",
       "      <td>Kepler</td>\n",
       "      <td>Confirmed</td>\n",
       "      <td>0.000</td>\n",
       "      <td>3.188594</td>\n",
       "      <td>NaN</td>\n",
       "      <td>Kepler-1652</td>\n",
       "    </tr>\n",
       "    <tr>\n",
       "      <th>9</th>\n",
       "      <td>10</td>\n",
       "      <td>Kepler-441 b</td>\n",
       "      <td>0.241811</td>\n",
       "      <td>207.248200</td>\n",
       "      <td>1.568436</td>\n",
       "      <td>0.139914</td>\n",
       "      <td>Kepler</td>\n",
       "      <td>Confirmed</td>\n",
       "      <td>0.100</td>\n",
       "      <td>3.082536</td>\n",
       "      <td>NaN</td>\n",
       "      <td>Kepler-441</td>\n",
       "    </tr>\n",
       "    <tr>\n",
       "      <th>10</th>\n",
       "      <td>11</td>\n",
       "      <td>Kepler-1229 b</td>\n",
       "      <td>0.629999</td>\n",
       "      <td>86.828989</td>\n",
       "      <td>1.556471</td>\n",
       "      <td>0.138847</td>\n",
       "      <td>Kepler</td>\n",
       "      <td>Confirmed</td>\n",
       "      <td>0.000</td>\n",
       "      <td>3.042715</td>\n",
       "      <td>NaN</td>\n",
       "      <td>Kepler-1229</td>\n",
       "    </tr>\n",
       "    <tr>\n",
       "      <th>11</th>\n",
       "      <td>12</td>\n",
       "      <td>K2-3 d</td>\n",
       "      <td>1.003350</td>\n",
       "      <td>44.556460</td>\n",
       "      <td>1.499946</td>\n",
       "      <td>0.133804</td>\n",
       "      <td>K2</td>\n",
       "      <td>Confirmed</td>\n",
       "      <td>0.000</td>\n",
       "      <td>2.857498</td>\n",
       "      <td>NaN</td>\n",
       "      <td>K2-3</td>\n",
       "    </tr>\n",
       "    <tr>\n",
       "      <th>12</th>\n",
       "      <td>14</td>\n",
       "      <td>LP 890-9 c</td>\n",
       "      <td>0.910000</td>\n",
       "      <td>8.457463</td>\n",
       "      <td>1.367000</td>\n",
       "      <td>0.121945</td>\n",
       "      <td>SPECULOOS Southern Observatory</td>\n",
       "      <td>Confirmed</td>\n",
       "      <td>NaN</td>\n",
       "      <td>2.440915</td>\n",
       "      <td>NaN</td>\n",
       "      <td>LP 890-9</td>\n",
       "    </tr>\n",
       "    <tr>\n",
       "      <th>13</th>\n",
       "      <td>20</td>\n",
       "      <td>TOI-700 d</td>\n",
       "      <td>0.850000</td>\n",
       "      <td>37.424750</td>\n",
       "      <td>1.144000</td>\n",
       "      <td>0.102052</td>\n",
       "      <td>TESS</td>\n",
       "      <td>Confirmed</td>\n",
       "      <td>0.111</td>\n",
       "      <td>1.574022</td>\n",
       "      <td>NaN</td>\n",
       "      <td>TOI-700</td>\n",
       "    </tr>\n",
       "  </tbody>\n",
       "</table>\n",
       "</div>"
      ],
      "text/plain": [
       "    Unnamed: 0           name     insol      period      rade      radj  \\\n",
       "0            0   Kepler-452 b  1.108504  384.843000  1.568324  0.139904   \n",
       "1            1  Kepler-1649 c  0.942183   19.535270  1.069217  0.095381   \n",
       "2            2  Kepler-1544 b  0.774587  168.811174  1.722270  0.153637   \n",
       "3            3  Kepler-1410 b  1.060000   60.866168  1.780000  0.158787   \n",
       "4            4   Kepler-296 f  0.620000   63.336270  1.800000  0.160571   \n",
       "5            5   Kepler-283 c  0.966398   92.743711  1.944526  0.173464   \n",
       "6            6    Kepler-62 f  0.509360  267.291000  1.533375  0.136786   \n",
       "7            7   Kepler-442 b  1.007496  112.305300  1.375733  0.122724   \n",
       "8            8  Kepler-1652 b  0.810000   38.097220  1.600000  0.142730   \n",
       "9           10   Kepler-441 b  0.241811  207.248200  1.568436  0.139914   \n",
       "10          11  Kepler-1229 b  0.629999   86.828989  1.556471  0.138847   \n",
       "11          12         K2-3 d  1.003350   44.556460  1.499946  0.133804   \n",
       "12          14     LP 890-9 c  0.910000    8.457463  1.367000  0.121945   \n",
       "13          20      TOI-700 d  0.850000   37.424750  1.144000  0.102052   \n",
       "\n",
       "                    discoverymethod      Status  eccen  masse_est  masse  \\\n",
       "0                            Kepler   Confirmed  0.000   3.082162    NaN   \n",
       "1                            Kepler   Confirmed  0.000   1.235315    NaN   \n",
       "2                            Kepler   Confirmed  0.000   3.613241    NaN   \n",
       "3                            Kepler   Confirmed  0.000   3.821265    NaN   \n",
       "4                            Kepler   Confirmed  0.330   3.894446    NaN   \n",
       "5                            Kepler   Confirmed  0.000   4.440091    NaN   \n",
       "6                            Kepler   Confirmed  0.000   2.966459    NaN   \n",
       "7                            Kepler   Confirmed  0.040   2.467450    NaN   \n",
       "8                            Kepler   Confirmed  0.000   3.188594    NaN   \n",
       "9                            Kepler   Confirmed  0.100   3.082536    NaN   \n",
       "10                           Kepler   Confirmed  0.000   3.042715    NaN   \n",
       "11                               K2   Confirmed  0.000   2.857498    NaN   \n",
       "12   SPECULOOS Southern Observatory   Confirmed    NaN   2.440915    NaN   \n",
       "13                             TESS   Confirmed  0.111   1.574022    NaN   \n",
       "\n",
       "       hostname  \n",
       "0    Kepler-452  \n",
       "1   Kepler-1649  \n",
       "2   Kepler-1544  \n",
       "3   Kepler-1410  \n",
       "4    Kepler-296  \n",
       "5    Kepler-283  \n",
       "6     Kepler-62  \n",
       "7    Kepler-442  \n",
       "8   Kepler-1652  \n",
       "9    Kepler-441  \n",
       "10  Kepler-1229  \n",
       "11         K2-3  \n",
       "12     LP 890-9  \n",
       "13      TOI-700  "
      ]
     },
     "execution_count": 130,
     "metadata": {},
     "output_type": "execute_result"
    }
   ],
   "source": [
    "confirmed"
   ]
  },
  {
   "cell_type": "code",
   "execution_count": 25,
   "metadata": {},
   "outputs": [],
   "source": [
    "period_conf = confirmed['period'].values      #[days]\n",
    "radius_conf = confirmed['rade'].values        #[Earth radii]\n",
    "mass_conf = confirmed['masse_est'].values     #[Earth mass, estimate using m/r relationship]\n",
    "eccen_conf = confirmed['eccen'].values        #eccentricity"
   ]
  },
  {
   "cell_type": "code",
   "execution_count": 126,
   "metadata": {},
   "outputs": [
    {
     "data": {
      "text/latex": [
       "$1.1687518 \\times 10^{11} \\; \\mathrm{\\frac{s^{2}\\,kg}{m^{2}}}$"
      ],
      "text/plain": [
       "<Quantity 1.16875181e+11 kg s2 / m2>"
      ]
     },
     "execution_count": 126,
     "metadata": {},
     "output_type": "execute_result"
    }
   ],
   "source": [
    "#for T-1g  (p,r,e)\n",
    "h_tidal(12.35,1.11,.026) #lynnae gets 5.77*10^11"
   ]
  },
  {
   "cell_type": "code",
   "execution_count": 153,
   "metadata": {},
   "outputs": [
    {
     "data": {
      "text/latex": [
       "$8.0027049 \\times 10^{24} \\; \\mathrm{kg}$"
      ],
      "text/plain": [
       "<Quantity 8.00270494e+24 kg>"
      ]
     },
     "execution_count": 153,
     "metadata": {},
     "output_type": "execute_result"
    }
   ],
   "source": [
    "Mantle(1.11,1.34)"
   ]
  },
  {
   "cell_type": "code",
   "execution_count": 129,
   "metadata": {},
   "outputs": [
    {
     "data": {
      "text/latex": [
       "$7.5696187 \\times 10^{10} \\; \\mathrm{W}$"
      ],
      "text/plain": [
       "<Quantity 7.56961871e+10 W>"
      ]
     },
     "execution_count": 129,
     "metadata": {},
     "output_type": "execute_result"
    }
   ],
   "source": [
    "h_radio(8.0027**24*u.kg) #lynae gets 2.57*10^13"
   ]
  },
  {
   "cell_type": "code",
   "execution_count": 133,
   "metadata": {},
   "outputs": [
    {
     "data": {
      "text/plain": [
       "192571367000.0"
      ]
     },
     "execution_count": 133,
     "metadata": {},
     "output_type": "execute_result"
    }
   ],
   "source": [
    "h_total(1.1687518*10**11,7.5696187*10**10)"
   ]
  },
  {
   "cell_type": "code",
   "execution_count": 134,
   "metadata": {},
   "outputs": [
    {
     "name": "stdout",
     "output_type": "stream",
     "text": [
      "Kepler-296 f\n"
     ]
    }
   ],
   "source": [
    "print(confirmed['name'][4])"
   ]
  },
  {
   "cell_type": "markdown",
   "metadata": {},
   "source": [
    "Calculating heating rates for the planets with eccentricities"
   ]
  },
  {
   "cell_type": "markdown",
   "metadata": {},
   "source": [
    "Kepler-296 f"
   ]
  },
  {
   "cell_type": "code",
   "execution_count": 135,
   "metadata": {},
   "outputs": [
    {
     "data": {
      "text/latex": [
       "$5.9514595 \\times 10^{10} \\; \\mathrm{\\frac{s^{2}\\,kg}{m^{2}}}$"
      ],
      "text/plain": [
       "<Quantity 5.95145953e+10 kg s2 / m2>"
      ]
     },
     "execution_count": 135,
     "metadata": {},
     "output_type": "execute_result"
    }
   ],
   "source": [
    "h_tidal(period_conf[4],radius_conf[4],eccen_conf[4])"
   ]
  },
  {
   "cell_type": "code",
   "execution_count": 136,
   "metadata": {},
   "outputs": [
    {
     "data": {
      "text/latex": [
       "$3.6980673 \\times 10^{14} \\; \\mathrm{W}$"
      ],
      "text/plain": [
       "<Quantity 3.6980673e+14 W>"
      ]
     },
     "execution_count": 136,
     "metadata": {},
     "output_type": "execute_result"
    }
   ],
   "source": [
    "h_radio(Mantle(radius_conf[4],mass_conf[4])) #r,m"
   ]
  },
  {
   "cell_type": "code",
   "execution_count": 183,
   "metadata": {},
   "outputs": [
    {
     "data": {
      "text/latex": [
       "$3.6980673 \\times 10^{14} \\; \\mathrm{W}$"
      ],
      "text/plain": [
       "<Quantity 3.6980673e+14 W>"
      ]
     },
     "execution_count": 183,
     "metadata": {},
     "output_type": "execute_result"
    }
   ],
   "source": [
    "h_radio(Mantle_Europa(radius_conf[4],mass_conf[4])) #r,m"
   ]
  },
  {
   "cell_type": "code",
   "execution_count": 184,
   "metadata": {},
   "outputs": [
    {
     "data": {
      "text/latex": [
       "$3.6980673 \\times 10^{14} \\; \\mathrm{W}$"
      ],
      "text/plain": [
       "<Quantity 3.6980673e+14 W>"
      ]
     },
     "execution_count": 184,
     "metadata": {},
     "output_type": "execute_result"
    }
   ],
   "source": [
    "h_radio(Mantle_Ganymede(radius_conf[4],mass_conf[4])) #r,m"
   ]
  },
  {
   "cell_type": "markdown",
   "metadata": {},
   "source": [
    "Kepler-442 b"
   ]
  },
  {
   "cell_type": "code",
   "execution_count": 137,
   "metadata": {},
   "outputs": [
    {
     "name": "stdout",
     "output_type": "stream",
     "text": [
      "Kepler-442 b\n"
     ]
    }
   ],
   "source": [
    "print(confirmed['name'][7])"
   ]
  },
  {
   "cell_type": "code",
   "execution_count": 140,
   "metadata": {},
   "outputs": [
    {
     "data": {
      "text/latex": [
       "$13010246 \\; \\mathrm{\\frac{s^{2}\\,kg}{m^{2}}}$"
      ],
      "text/plain": [
       "<Quantity 13010246.2689677 kg s2 / m2>"
      ]
     },
     "execution_count": 140,
     "metadata": {},
     "output_type": "execute_result"
    }
   ],
   "source": [
    "h_tidal(period_conf[7],radius_conf[7],eccen_conf[7])"
   ]
  },
  {
   "cell_type": "code",
   "execution_count": 139,
   "metadata": {},
   "outputs": [
    {
     "data": {
      "text/latex": [
       "$2.3430278 \\times 10^{14} \\; \\mathrm{W}$"
      ],
      "text/plain": [
       "<Quantity 2.34302785e+14 W>"
      ]
     },
     "execution_count": 139,
     "metadata": {},
     "output_type": "execute_result"
    }
   ],
   "source": [
    "h_radio(Mantle(radius_conf[7],mass_conf[7])) #r,m"
   ]
  },
  {
   "cell_type": "code",
   "execution_count": 185,
   "metadata": {},
   "outputs": [
    {
     "data": {
      "text/latex": [
       "$2.3430278 \\times 10^{14} \\; \\mathrm{W}$"
      ],
      "text/plain": [
       "<Quantity 2.34302785e+14 W>"
      ]
     },
     "execution_count": 185,
     "metadata": {},
     "output_type": "execute_result"
    }
   ],
   "source": [
    "h_radio(Mantle_Europa(radius_conf[7],mass_conf[7])) #r,m"
   ]
  },
  {
   "cell_type": "code",
   "execution_count": 186,
   "metadata": {},
   "outputs": [
    {
     "data": {
      "text/latex": [
       "$2.3430278 \\times 10^{14} \\; \\mathrm{W}$"
      ],
      "text/plain": [
       "<Quantity 2.34302785e+14 W>"
      ]
     },
     "execution_count": 186,
     "metadata": {},
     "output_type": "execute_result"
    }
   ],
   "source": [
    "h_radio(Mantle_Ganymede(radius_conf[7],mass_conf[7])) #r,m"
   ]
  },
  {
   "cell_type": "code",
   "execution_count": 141,
   "metadata": {},
   "outputs": [
    {
     "name": "stdout",
     "output_type": "stream",
     "text": [
      "Kepler-441 b\n"
     ]
    }
   ],
   "source": [
    "print(confirmed['name'][9])"
   ]
  },
  {
   "cell_type": "code",
   "execution_count": 144,
   "metadata": {},
   "outputs": [
    {
     "data": {
      "text/latex": [
       "$7317726.5 \\; \\mathrm{\\frac{s^{2}\\,kg}{m^{2}}}$"
      ],
      "text/plain": [
       "<Quantity 7317726.49892201 kg s2 / m2>"
      ]
     },
     "execution_count": 144,
     "metadata": {},
     "output_type": "execute_result"
    }
   ],
   "source": [
    "(h_tidal(period_conf[9],radius_conf[9],eccen_conf[9]))"
   ]
  },
  {
   "cell_type": "code",
   "execution_count": 145,
   "metadata": {},
   "outputs": [
    {
     "data": {
      "text/latex": [
       "$2.9270981 \\times 10^{14} \\; \\mathrm{W}$"
      ],
      "text/plain": [
       "<Quantity 2.92709815e+14 W>"
      ]
     },
     "execution_count": 145,
     "metadata": {},
     "output_type": "execute_result"
    }
   ],
   "source": [
    "(h_radio(Mantle(radius_conf[9],mass_conf[9])))"
   ]
  },
  {
   "cell_type": "code",
   "execution_count": 189,
   "metadata": {},
   "outputs": [
    {
     "data": {
      "text/latex": [
       "$2.9270981 \\times 10^{14} \\; \\mathrm{W}$"
      ],
      "text/plain": [
       "<Quantity 2.92709815e+14 W>"
      ]
     },
     "execution_count": 189,
     "metadata": {},
     "output_type": "execute_result"
    }
   ],
   "source": [
    "h_radio(Mantle_Europa(radius_conf[9],mass_conf[9])) #r,m"
   ]
  },
  {
   "cell_type": "code",
   "execution_count": 188,
   "metadata": {},
   "outputs": [
    {
     "data": {
      "text/latex": [
       "$2.9270981 \\times 10^{14} \\; \\mathrm{W}$"
      ],
      "text/plain": [
       "<Quantity 2.92709815e+14 W>"
      ]
     },
     "execution_count": 188,
     "metadata": {},
     "output_type": "execute_result"
    }
   ],
   "source": [
    "h_radio(Mantle_Ganymede(radius_conf[9],mass_conf[9])) #r,m"
   ]
  },
  {
   "cell_type": "code",
   "execution_count": 146,
   "metadata": {},
   "outputs": [
    {
     "name": "stdout",
     "output_type": "stream",
     "text": [
      "TOI-700 d\n"
     ]
    }
   ],
   "source": [
    "#toi-700 d\n",
    "print(confirmed['name'][13])"
   ]
  },
  {
   "cell_type": "code",
   "execution_count": 147,
   "metadata": {},
   "outputs": [
    {
     "data": {
      "text/latex": [
       "$9.6934201 \\times 10^{9} \\; \\mathrm{\\frac{s^{2}\\,kg}{m^{2}}}$"
      ],
      "text/plain": [
       "<Quantity 9.69342013e+09 kg s2 / m2>"
      ]
     },
     "execution_count": 147,
     "metadata": {},
     "output_type": "execute_result"
    }
   ],
   "source": [
    "(h_tidal(period_conf[13],radius_conf[13],eccen_conf[13]))"
   ]
  },
  {
   "cell_type": "code",
   "execution_count": 148,
   "metadata": {},
   "outputs": [
    {
     "data": {
      "text/latex": [
       "$1.4946516 \\times 10^{14} \\; \\mathrm{W}$"
      ],
      "text/plain": [
       "<Quantity 1.4946516e+14 W>"
      ]
     },
     "execution_count": 148,
     "metadata": {},
     "output_type": "execute_result"
    }
   ],
   "source": [
    "(h_radio(Mantle(radius_conf[13],mass_conf[13])))"
   ]
  },
  {
   "cell_type": "code",
   "execution_count": 190,
   "metadata": {},
   "outputs": [
    {
     "data": {
      "text/latex": [
       "$1.4946516 \\times 10^{14} \\; \\mathrm{W}$"
      ],
      "text/plain": [
       "<Quantity 1.4946516e+14 W>"
      ]
     },
     "execution_count": 190,
     "metadata": {},
     "output_type": "execute_result"
    }
   ],
   "source": [
    "h_radio(Mantle_Ganymede(radius_conf[13],mass_conf[13])) #r,m"
   ]
  },
  {
   "cell_type": "code",
   "execution_count": 191,
   "metadata": {},
   "outputs": [
    {
     "data": {
      "text/latex": [
       "$1.4946516 \\times 10^{14} \\; \\mathrm{W}$"
      ],
      "text/plain": [
       "<Quantity 1.4946516e+14 W>"
      ]
     },
     "execution_count": 191,
     "metadata": {},
     "output_type": "execute_result"
    }
   ],
   "source": [
    "h_radio(Mantle_Europa(radius_conf[13],mass_conf[13])) #r,m"
   ]
  },
  {
   "cell_type": "markdown",
   "metadata": {},
   "source": [
    "## Calculating Heating Rates for Candidates "
   ]
  },
  {
   "cell_type": "markdown",
   "metadata": {},
   "source": [
    "Since we do not have any eccentricity values for candidates we will draw from a distribution of eccentricities based on the work by: https://arxiv.org/pdf/1807.00549.pdf (Table 3 -- half gaussian values for single planets)"
   ]
  },
  {
   "cell_type": "code",
   "execution_count": 155,
   "metadata": {},
   "outputs": [],
   "source": [
    "#generating random eccentricities\n",
    "from scipy.stats import halfnorm\n",
    "e = halfnorm.rvs(size=50,scale=.32)"
   ]
  },
  {
   "cell_type": "code",
   "execution_count": 156,
   "metadata": {},
   "outputs": [
    {
     "name": "stdout",
     "output_type": "stream",
     "text": [
      "[0.62013939 0.00671565 0.21470335 0.25484754 0.02436062 0.10618933\n",
      " 0.03090688 0.26341431 0.24437037 0.28450081 0.03532547 0.14480737\n",
      " 0.25237698 0.25333396 0.03293996 0.46025262 0.04123096 0.43928757\n",
      " 0.0619904  0.34483032 0.21624888 0.24822681 0.47992728 0.02896983\n",
      " 0.21070966 0.2148499  0.23126183 0.35057041 0.16632998 0.12026604\n",
      " 0.18266845 0.04260514 0.3637169  0.18394073 0.51534321 0.16690191\n",
      " 0.31585422 0.1328866  0.34988414 0.20543113 0.17496255 0.15235373\n",
      " 0.35288333 0.09728527 0.20322862 0.09147583 0.01810485 0.0079794\n",
      " 0.27385199 0.4093375 ]\n"
     ]
    }
   ],
   "source": [
    "print(e)"
   ]
  },
  {
   "cell_type": "code",
   "execution_count": 152,
   "metadata": {},
   "outputs": [
    {
     "data": {
      "text/plain": [
       "(0.38, 0.26)"
      ]
     },
     "execution_count": 152,
     "metadata": {},
     "output_type": "execute_result"
    }
   ],
   "source": [
    ".32+.06, .32-.06"
   ]
  },
  {
   "cell_type": "code",
   "execution_count": 166,
   "metadata": {},
   "outputs": [],
   "source": [
    "#es = np.linspace(halfnorm.ppf(0.26),\n",
    "               # halfnorm.ppf(0.38), 100)\n",
    "#plt.plot(es, halfnorm.pdf(es),\n",
    "      # 'r-', lw=5, alpha=0.6, label='halfnorm pdf')"
   ]
  },
  {
   "cell_type": "code",
   "execution_count": 167,
   "metadata": {},
   "outputs": [],
   "source": [
    "#rv = halfnorm()\n",
    "#plt.plot(es, rv.pdf(es), 'k-', lw=2, label='frozen pdf')"
   ]
  },
  {
   "cell_type": "code",
   "execution_count": 168,
   "metadata": {},
   "outputs": [],
   "source": [
    "#vals = halfnorm.ppf([0.001, 0.5, 0.999])\n",
    "#np.allclose([0.001, 0.5, 0.999], halfnorm.cdf(vals))"
   ]
  },
  {
   "cell_type": "code",
   "execution_count": 170,
   "metadata": {},
   "outputs": [
    {
     "data": {
      "text/plain": [
       "(array([3.58642786, 1.30415559, 2.60831117, 2.93435007, 1.95623338,\n",
       "        1.95623338, 0.3260389 , 0.97811669, 0.3260389 , 0.3260389 ]),\n",
       " array([0.00671565, 0.06805802, 0.1294004 , 0.19074277, 0.25208515,\n",
       "        0.31342752, 0.37476989, 0.43611227, 0.49745464, 0.55879702,\n",
       "        0.62013939]),\n",
       " [<matplotlib.patches.Polygon at 0x7fda73473210>])"
      ]
     },
     "execution_count": 170,
     "metadata": {},
     "output_type": "execute_result"
    },
    {
     "data": {
      "image/png": "[encoded data removed]",
      "text/plain": [
       "<Figure size 432x288 with 1 Axes>"
      ]
     },
     "metadata": {
      "needs_background": "light"
     },
     "output_type": "display_data"
    }
   ],
   "source": [
    "plt.hist(e, density=True, histtype='stepfilled', alpha=0.2)\n",
    "\n",
    "\n",
    "#plt.plot(es, halfnorm.pdf(es),\n",
    "#       'r-', lw=5, alpha=0.6, label='halfnorm pdf')\n",
    "#plt.plot(es, rv.pdf(es), 'k-', lw=2, label='frozen pdf')\n",
    "\n",
    "#plt.legend(loc='best', frameon=False)\n",
    "#plt.show()"
   ]
  },
  {
   "cell_type": "code",
   "execution_count": null,
   "metadata": {},
   "outputs": [],
   "source": []
  }
 ],
 "metadata": {
  "kernelspec": {
   "display_name": "Python3",
   "language": "python",
   "name": "python3"
  },
  "language_info": {
   "codemirror_mode": {
    "name": "ipython",
    "version": 3
   },
   "file_extension": ".py",
   "mimetype": "text/x-python",
   "name": "python",
   "nbconvert_exporter": "python",
   "pygments_lexer": "ipython3",
   "version": "3.7.9"
  }
 },
 "nbformat": 4,
 "nbformat_minor": 4
}
